{
  "nbformat": 4,
  "nbformat_minor": 0,
  "metadata": {
    "colab": {
      "name": "GSoC_Evaluation_exercise.ipynb",
      "provenance": [],
      "collapsed_sections": []
    },
    "kernelspec": {
      "name": "python3",
      "display_name": "Python 3",
      "language": "python"
    }
  },
  "cells": [
    {
      "cell_type": "code",
      "metadata": {
        "id": "_BRpHkB2crt7",
        "colab": {
          "base_uri": "https://localhost:8080/"
        },
        "cellView": "form",
        "outputId": "0da8dd42-9c32-4a51-8b83-3bef9182db4e"
      },
      "source": [
        "#@title connect google drive \r\n",
        "from google.colab import drive\r\n",
        "import numpy as np\r\n",
        "import os\r\n",
        "\r\n",
        "\r\n",
        "drive.mount('/content/gdrive')\r\n",
        "os.chdir(\"/content/gdrive/MyDrive/GSoC/Evaluation\")"
      ],
      "execution_count": 1,
      "outputs": [
        {
          "output_type": "stream",
          "text": [
            "Drive already mounted at /content/gdrive; to attempt to forcibly remount, call drive.mount(\"/content/gdrive\", force_remount=True).\n"
          ],
          "name": "stdout"
        }
      ]
    },
    {
      "cell_type": "code",
      "metadata": {
        "id": "RhcpP5Ire49T",
        "colab": {
          "base_uri": "https://localhost:8080/"
        },
        "outputId": "e2a7e4e5-9d02-4c9e-917d-490ed189f213"
      },
      "source": [
        "#@title Import libraries\n",
        "!pip install torch torchvision torchaudio --upgrade\n",
        "!pip install fastai --upgrade\n",
        "import numpy as np\n",
        "import os\n",
        "import pandas as pd\n",
        "import time\n",
        "from sklearn.preprocessing import StandardScaler\n",
        "from sklearn.preprocessing import MinMaxScaler\n",
        "from sklearn.model_selection import train_test_split\n",
        "from sklearn.metrics import mean_squared_error\n",
        "import matplotlib.pyplot as plt\n",
        "import torch\n",
        "import torch.nn as nn\n",
        "import torch.optim as optim\n",
        "import torch.utils.data\n",
        "from torch.autograd import Variable\n",
        "from fastai.metrics import mse\n",
        "from fastai.callback import schedule\n",
        "from torch.utils.data import TensorDataset\n",
        "from torch.utils.data import DataLoader\n",
        "\n",
        "from fastai import learner\n",
        "from fastai.data import core\n",
        "\n",
        "import pandas as pd\n",
        "import numpy as np\n",
        "import matplotlib.pyplot as plt"
      ],
      "execution_count": 2,
      "outputs": [
        {
          "output_type": "stream",
          "text": [
            "Collecting torch\n",
            "\u001b[?25l  Downloading https://files.pythonhosted.org/packages/94/99/5861239a6e1ffe66e120f114a4d67e96e5c4b17c1a785dfc6ca6769585fc/torch-1.8.0-cp37-cp37m-manylinux1_x86_64.whl (735.5MB)\n",
            "\u001b[K     |████████████████████████████████| 735.5MB 20kB/s \n",
            "\u001b[?25hCollecting torchvision\n",
            "\u001b[?25l  Downloading https://files.pythonhosted.org/packages/6f/6a/4e8d7c897f24a6aa9d5e7c23a157b52084ccd43d1b6019603361d2136dde/torchvision-0.9.0-cp37-cp37m-manylinux1_x86_64.whl (17.3MB)\n",
            "\u001b[K     |████████████████████████████████| 17.3MB 242kB/s \n",
            "\u001b[?25hRequirement already up-to-date: torchaudio in /usr/local/lib/python3.7/dist-packages (0.8.0)\n",
            "Requirement already satisfied, skipping upgrade: typing-extensions in /usr/local/lib/python3.7/dist-packages (from torch) (3.7.4.3)\n",
            "Requirement already satisfied, skipping upgrade: numpy in /usr/local/lib/python3.7/dist-packages (from torch) (1.19.5)\n",
            "Requirement already satisfied, skipping upgrade: pillow>=4.1.1 in /usr/local/lib/python3.7/dist-packages (from torchvision) (7.0.0)\n",
            "\u001b[31mERROR: fastai 2.2.7 has requirement torch<1.8,>=1.7.0, but you'll have torch 1.8.0 which is incompatible.\u001b[0m\n",
            "\u001b[31mERROR: fastai 2.2.7 has requirement torchvision<0.9,>=0.8, but you'll have torchvision 0.9.0 which is incompatible.\u001b[0m\n",
            "Installing collected packages: torch, torchvision\n",
            "  Found existing installation: torch 1.7.1\n",
            "    Uninstalling torch-1.7.1:\n",
            "      Successfully uninstalled torch-1.7.1\n",
            "  Found existing installation: torchvision 0.8.2\n",
            "    Uninstalling torchvision-0.8.2:\n",
            "      Successfully uninstalled torchvision-0.8.2\n",
            "Successfully installed torch-1.8.0 torchvision-0.9.0\n",
            "Requirement already up-to-date: fastai in /usr/local/lib/python3.7/dist-packages (2.2.7)\n",
            "Requirement already satisfied, skipping upgrade: spacy<3 in /usr/local/lib/python3.7/dist-packages (from fastai) (2.2.4)\n",
            "Requirement already satisfied, skipping upgrade: pyyaml in /usr/local/lib/python3.7/dist-packages (from fastai) (3.13)\n",
            "Requirement already satisfied, skipping upgrade: pip in /usr/local/lib/python3.7/dist-packages (from fastai) (19.3.1)\n",
            "Requirement already satisfied, skipping upgrade: packaging in /usr/local/lib/python3.7/dist-packages (from fastai) (20.9)\n",
            "Requirement already satisfied, skipping upgrade: pandas in /usr/local/lib/python3.7/dist-packages (from fastai) (1.1.5)\n",
            "Requirement already satisfied, skipping upgrade: fastprogress>=0.2.4 in /usr/local/lib/python3.7/dist-packages (from fastai) (1.0.0)\n",
            "Collecting torch<1.8,>=1.7.0\n",
            "  Using cached https://files.pythonhosted.org/packages/90/5d/095ddddc91c8a769a68c791c019c5793f9c4456a688ddd235d6670924ecb/torch-1.7.1-cp37-cp37m-manylinux1_x86_64.whl\n",
            "Requirement already satisfied, skipping upgrade: pillow>6.0.0 in /usr/local/lib/python3.7/dist-packages (from fastai) (7.0.0)\n",
            "Requirement already satisfied, skipping upgrade: requests in /usr/local/lib/python3.7/dist-packages (from fastai) (2.23.0)\n",
            "Collecting torchvision<0.9,>=0.8\n",
            "  Using cached https://files.pythonhosted.org/packages/94/df/969e69a94cff1c8911acb0688117f95e1915becc1e01c73e7960a2c76ec8/torchvision-0.8.2-cp37-cp37m-manylinux1_x86_64.whl\n",
            "Requirement already satisfied, skipping upgrade: fastcore<1.4,>=1.3.8 in /usr/local/lib/python3.7/dist-packages (from fastai) (1.3.19)\n",
            "Requirement already satisfied, skipping upgrade: scipy in /usr/local/lib/python3.7/dist-packages (from fastai) (1.4.1)\n",
            "Requirement already satisfied, skipping upgrade: matplotlib in /usr/local/lib/python3.7/dist-packages (from fastai) (3.2.2)\n",
            "Requirement already satisfied, skipping upgrade: scikit-learn in /usr/local/lib/python3.7/dist-packages (from fastai) (0.22.2.post1)\n",
            "Requirement already satisfied, skipping upgrade: murmurhash<1.1.0,>=0.28.0 in /usr/local/lib/python3.7/dist-packages (from spacy<3->fastai) (1.0.5)\n",
            "Requirement already satisfied, skipping upgrade: cymem<2.1.0,>=2.0.2 in /usr/local/lib/python3.7/dist-packages (from spacy<3->fastai) (2.0.5)\n",
            "Requirement already satisfied, skipping upgrade: plac<1.2.0,>=0.9.6 in /usr/local/lib/python3.7/dist-packages (from spacy<3->fastai) (1.1.3)\n",
            "Requirement already satisfied, skipping upgrade: thinc==7.4.0 in /usr/local/lib/python3.7/dist-packages (from spacy<3->fastai) (7.4.0)\n",
            "Requirement already satisfied, skipping upgrade: blis<0.5.0,>=0.4.0 in /usr/local/lib/python3.7/dist-packages (from spacy<3->fastai) (0.4.1)\n",
            "Requirement already satisfied, skipping upgrade: tqdm<5.0.0,>=4.38.0 in /usr/local/lib/python3.7/dist-packages (from spacy<3->fastai) (4.41.1)\n",
            "Requirement already satisfied, skipping upgrade: wasabi<1.1.0,>=0.4.0 in /usr/local/lib/python3.7/dist-packages (from spacy<3->fastai) (0.8.2)\n",
            "Requirement already satisfied, skipping upgrade: setuptools in /usr/local/lib/python3.7/dist-packages (from spacy<3->fastai) (54.0.0)\n",
            "Requirement already satisfied, skipping upgrade: preshed<3.1.0,>=3.0.2 in /usr/local/lib/python3.7/dist-packages (from spacy<3->fastai) (3.0.5)\n",
            "Requirement already satisfied, skipping upgrade: numpy>=1.15.0 in /usr/local/lib/python3.7/dist-packages (from spacy<3->fastai) (1.19.5)\n",
            "Requirement already satisfied, skipping upgrade: catalogue<1.1.0,>=0.0.7 in /usr/local/lib/python3.7/dist-packages (from spacy<3->fastai) (1.0.0)\n",
            "Requirement already satisfied, skipping upgrade: srsly<1.1.0,>=1.0.2 in /usr/local/lib/python3.7/dist-packages (from spacy<3->fastai) (1.0.5)\n",
            "Requirement already satisfied, skipping upgrade: pyparsing>=2.0.2 in /usr/local/lib/python3.7/dist-packages (from packaging->fastai) (2.4.7)\n",
            "Requirement already satisfied, skipping upgrade: pytz>=2017.2 in /usr/local/lib/python3.7/dist-packages (from pandas->fastai) (2018.9)\n",
            "Requirement already satisfied, skipping upgrade: python-dateutil>=2.7.3 in /usr/local/lib/python3.7/dist-packages (from pandas->fastai) (2.8.1)\n",
            "Requirement already satisfied, skipping upgrade: typing-extensions in /usr/local/lib/python3.7/dist-packages (from torch<1.8,>=1.7.0->fastai) (3.7.4.3)\n",
            "Requirement already satisfied, skipping upgrade: urllib3!=1.25.0,!=1.25.1,<1.26,>=1.21.1 in /usr/local/lib/python3.7/dist-packages (from requests->fastai) (1.24.3)\n",
            "Requirement already satisfied, skipping upgrade: certifi>=2017.4.17 in /usr/local/lib/python3.7/dist-packages (from requests->fastai) (2020.12.5)\n",
            "Requirement already satisfied, skipping upgrade: idna<3,>=2.5 in /usr/local/lib/python3.7/dist-packages (from requests->fastai) (2.10)\n",
            "Requirement already satisfied, skipping upgrade: chardet<4,>=3.0.2 in /usr/local/lib/python3.7/dist-packages (from requests->fastai) (3.0.4)\n",
            "Requirement already satisfied, skipping upgrade: cycler>=0.10 in /usr/local/lib/python3.7/dist-packages (from matplotlib->fastai) (0.10.0)\n",
            "Requirement already satisfied, skipping upgrade: kiwisolver>=1.0.1 in /usr/local/lib/python3.7/dist-packages (from matplotlib->fastai) (1.3.1)\n",
            "Requirement already satisfied, skipping upgrade: joblib>=0.11 in /usr/local/lib/python3.7/dist-packages (from scikit-learn->fastai) (1.0.1)\n",
            "Requirement already satisfied, skipping upgrade: importlib-metadata>=0.20; python_version < \"3.8\" in /usr/local/lib/python3.7/dist-packages (from catalogue<1.1.0,>=0.0.7->spacy<3->fastai) (3.7.0)\n",
            "Requirement already satisfied, skipping upgrade: six>=1.5 in /usr/local/lib/python3.7/dist-packages (from python-dateutil>=2.7.3->pandas->fastai) (1.15.0)\n",
            "Requirement already satisfied, skipping upgrade: zipp>=0.5 in /usr/local/lib/python3.7/dist-packages (from importlib-metadata>=0.20; python_version < \"3.8\"->catalogue<1.1.0,>=0.0.7->spacy<3->fastai) (3.4.1)\n",
            "\u001b[31mERROR: torchtext 0.9.0 has requirement torch==1.8.0, but you'll have torch 1.7.1 which is incompatible.\u001b[0m\n",
            "\u001b[31mERROR: torchaudio 0.8.0 has requirement torch==1.8.0, but you'll have torch 1.7.1 which is incompatible.\u001b[0m\n",
            "Installing collected packages: torch, torchvision\n",
            "  Found existing installation: torch 1.8.0\n",
            "    Uninstalling torch-1.8.0:\n",
            "      Successfully uninstalled torch-1.8.0\n",
            "  Found existing installation: torchvision 0.9.0\n",
            "    Uninstalling torchvision-0.9.0:\n",
            "      Successfully uninstalled torchvision-0.9.0\n",
            "Successfully installed torch-1.7.1 torchvision-0.8.2\n"
          ],
          "name": "stdout"
        }
      ]
    },
    {
      "cell_type": "code",
      "metadata": {
        "id": "86vjmCrf5QCM"
      },
      "source": [
        "save_dir = \"plotOutput\"\n",
        "if not os.path.exists(save_dir):\n",
        "    os.makedirs(save_dir)"
      ],
      "execution_count": 3,
      "outputs": []
    },
    {
      "cell_type": "markdown",
      "metadata": {
        "id": "hk9MGtQixW_Z"
      },
      "source": [
        "## Read Data"
      ]
    },
    {
      "cell_type": "markdown",
      "metadata": {
        "id": "2bvY9qiuFllj"
      },
      "source": [
        "As the dataset has a variable number of jets in each row, i decided to read every line, and extract all 4D momentum data of each jet and collect them in a numpy array with shape (N_JETS, 4)"
      ]
    },
    {
      "cell_type": "code",
      "metadata": {
        "id": "mHLTVHbTfGqw"
      },
      "source": [
        "with open(\"monojet_Zp2000.0_DM_50.0_chan3.csv\", 'r') as csv_file: \n",
        "  lines_dataset = csv_file.readlines() # Reading csv file and get all lines"
      ],
      "execution_count": 4,
      "outputs": []
    },
    {
      "cell_type": "code",
      "metadata": {
        "id": "PG1IzssrqlNj"
      },
      "source": [
        "X = []\n",
        "for line in lines_dataset: \n",
        "  event = line.split(\";\") # taking each line and spliting by ';'\n",
        "  jets_ = []\n",
        "  for item in event:\n",
        "    if item.startswith(\"j,\"): # Each jet momentum will be save in the dataset array, otherwise will ignore\n",
        "      jets_  = jets_ + [item[2:].split(\",\")] \n",
        "  X = X + jets_\n",
        "\n",
        "\n",
        "dataset = np.array(X, dtype=float) # Encapsuling in numpy array\n"
      ],
      "execution_count": 5,
      "outputs": []
    },
    {
      "cell_type": "code",
      "metadata": {
        "id": "jESFRfqHxtjY",
        "cellView": "form",
        "colab": {
          "base_uri": "https://localhost:8080/",
          "height": 1000
        },
        "outputId": "439ad037-59f9-4ef4-f257-b8c0d5543c3a"
      },
      "source": [
        "#@title Plot histogram of original data\n",
        "n_bins = 100\n",
        "#df = pd.DataFrame(dataset, dtype = float)\n",
        "for kk in range(0,4):\n",
        "    n_hist_data, bin_edges, _ = plt.hist(dataset[:,kk], color='gray', label='Input', alpha=1, bins=n_bins)\n",
        "    plt.xlabel(xlabel=str(kk))\n",
        "    plt.ylabel('# of events')\n",
        "    #plt.savefig(\"fourmomentum_\"+branches[kk],dpi=300)\n",
        "    plt.show()"
      ],
      "execution_count": 6,
      "outputs": [
        {
          "output_type": "display_data",
          "data": {
            "image/png": "[encoded data removed]",
            "text/plain": [
              "<Figure size 432x288 with 1 Axes>"
            ]
          },
          "metadata": {
            "tags": [],
            "needs_background": "light"
          }
        },
        {
          "output_type": "display_data",
          "data": {
            "image/png": "[encoded data removed]",
            "text/plain": [
              "<Figure size 432x288 with 1 Axes>"
            ]
          },
          "metadata": {
            "tags": [],
            "needs_background": "light"
          }
        },
        {
          "output_type": "display_data",
          "data": {
            "image/png": "[encoded data removed]",
            "text/plain": [
              "<Figure size 432x288 with 1 Axes>"
            ]
          },
          "metadata": {
            "tags": [],
            "needs_background": "light"
          }
        },
        {
          "output_type": "display_data",
          "data": {
            "image/png": "[encoded data removed]",
            "text/plain": [
              "<Figure size 432x288 with 1 Axes>"
            ]
          },
          "metadata": {
            "tags": [],
            "needs_background": "light"
          }
        }
      ]
    },
    {
      "cell_type": "markdown",
      "metadata": {
        "id": "Dvv9TSK4xeDw"
      },
      "source": [
        "## Train test split dataset"
      ]
    },
    {
      "cell_type": "code",
      "metadata": {
        "id": "nbEu0V4-u7gJ"
      },
      "source": [
        "X_train, X_test = train_test_split(dataset, test_size=0.2, random_state=42)  # Train and test division for comparing proposes"
      ],
      "execution_count": 7,
      "outputs": []
    },
    {
      "cell_type": "markdown",
      "metadata": {
        "id": "sHcugfDvLUW3"
      },
      "source": [
        "## Normalizing data\r\n",
        "\r\n",
        "I'm going to experiment with two different normalizations implemented in the scikit-learn library \r\n",
        "\r\n",
        "\r\n",
        "*   [MinMaxScaler](https://scikit-learn.org/stable/modules/generated/sklearn.preprocessing.MinMaxScaler.html)\r\n",
        "*   [StandardScaler](https://scikit-learn.org/stable/modules/generated/sklearn.preprocessing.StandardScaler.html)\r\n",
        "\r\n",
        "\r\n",
        "The report of the results is at the final of the notebook\r\n"
      ]
    },
    {
      "cell_type": "code",
      "metadata": {
        "id": "1s7BjjJjBV2d"
      },
      "source": [
        "scaler_min_max = MinMaxScaler() # To scale data\n",
        "X_train_scaled_min_max = scaler_min_max.fit_transform(X_train) # Fit with train data\n",
        "X_test_scaled_min_max = scaler_min_max.transform(X_test) # Transform the test data\n",
        "\n",
        "scaler_standar = StandardScaler() # To scale data\n",
        "X_train_scaled_standar = scaler_standar.fit_transform(X_train) # Fit with train data\n",
        "X_test_scaled_standar = scaler_standar.transform(X_test) # Transform the test data"
      ],
      "execution_count": 8,
      "outputs": []
    },
    {
      "cell_type": "code",
      "metadata": {
        "colab": {
          "base_uri": "https://localhost:8080/",
          "height": 297
        },
        "id": "q1f1K2jjgs2h",
        "outputId": "610ec311-0246-4f08-e784-4ef174821a2f"
      },
      "source": [
        "#@title Plot histogram of data with standard normalization\n",
        "n_bins = 100\n",
        "\n",
        "fig, axs = plt.subplots(2, 2)\n",
        "axs[0, 0].hist(X_train_scaled_standar[:,0], color='gray', label='Input', alpha=1, bins=n_bins)\n",
        "axs[0, 0].set_title('Feature 0')\n",
        "axs[0, 1].hist(X_train_scaled_standar[:,1], color='gray', label='Input', alpha=1, bins=n_bins)\n",
        "axs[0, 1].set_title('Feature 1')\n",
        "axs[1, 0].hist(X_train_scaled_standar[:,2], color='gray', label='Input', alpha=1, bins=n_bins)\n",
        "axs[1, 0].set_title('Feature 2')\n",
        "axs[1, 1].hist(X_train_scaled_standar[:,3], color='gray', label='Input', alpha=1, bins=n_bins)\n",
        "axs[1, 1].set_title('Feature 3')\n",
        "\n",
        "for ax in axs.flat:\n",
        "    ax.set(xlabel='feature', ylabel='# of events')\n",
        "\n",
        "\n",
        "#fig.show()\n",
        "fig.tight_layout()\n",
        "fig.savefig(os.path.join(save_dir, \"histogram_xtrain_standard.png\"))"
      ],
      "execution_count": 9,
      "outputs": [
        {
          "output_type": "display_data",
          "data": {
            "image/png": "[encoded data removed]",
            "text/plain": [
              "<Figure size 432x288 with 4 Axes>"
            ]
          },
          "metadata": {
            "tags": [],
            "needs_background": "light"
          }
        }
      ]
    },
    {
      "cell_type": "code",
      "metadata": {
        "colab": {
          "base_uri": "https://localhost:8080/",
          "height": 297
        },
        "id": "4Smia6pRgs2h",
        "outputId": "c98ea084-36f9-4a89-848b-120272f75300"
      },
      "source": [
        "#@title Plot histogram of data with MinMax normalization\n",
        "n_bins = 100\n",
        "\n",
        "fig, axs = plt.subplots(2, 2)\n",
        "axs[0, 0].hist(X_train_scaled_min_max[:,0], color='gray', label='Input', alpha=1, bins=n_bins)\n",
        "axs[0, 0].set_title('Feature 0')\n",
        "axs[0, 1].hist(X_train_scaled_min_max[:,1], color='gray', label='Input', alpha=1, bins=n_bins)\n",
        "axs[0, 1].set_title('Feature 1')\n",
        "axs[1, 0].hist(X_train_scaled_min_max[:,2], color='gray', label='Input', alpha=1, bins=n_bins)\n",
        "axs[1, 0].set_title('Feature 2')\n",
        "axs[1, 1].hist(X_train_scaled_min_max[:,3], color='gray', label='Input', alpha=1, bins=n_bins)\n",
        "axs[1, 1].set_title('Feature 3')\n",
        "\n",
        "for ax in axs.flat:\n",
        "    ax.set(xlabel='feature', ylabel='# of events')\n",
        "#fig.show()\n",
        "fig.tight_layout()\n",
        "fig.savefig(os.path.join(save_dir, \"histogram_xtrain_minmax.png\"))"
      ],
      "execution_count": 10,
      "outputs": [
        {
          "output_type": "display_data",
          "data": {
            "image/png": "[encoded data removed]",
            "text/plain": [
              "<Figure size 432x288 with 4 Axes>"
            ]
          },
          "metadata": {
            "tags": [],
            "needs_background": "light"
          }
        }
      ]
    },
    {
      "cell_type": "code",
      "metadata": {
        "id": "48fInTe80XXK"
      },
      "source": [
        "def get_TensorDatasets(X_train_scaled, X_test_scaled):\n",
        "  # Constructs a tensor object of the data and wraps them in a TensorDataset object.\n",
        "  train_x = X_train_scaled\n",
        "  train_y = X_train_scaled\n",
        "  test_x = X_test_scaled\n",
        "  test_y = X_test_scaled\n",
        "\n",
        "  train_ds = TensorDataset(torch.tensor(train_x, dtype=torch.float), torch.tensor(train_y, dtype=torch.float))\n",
        "  valid_ds = TensorDataset(torch.tensor(test_x, dtype=torch.float), torch.tensor(test_y, dtype=torch.float))\n",
        "\n",
        "  return train_ds,valid_ds\n",
        "\n",
        "train_ds_minmax,valid_ds_minmax = get_TensorDatasets(X_train_scaled_min_max, X_test_scaled_min_max)\n",
        "train_ds_standar,valid_ds_standar = get_TensorDatasets(X_train_scaled_standar, X_test_scaled_standar)"
      ],
      "execution_count": 11,
      "outputs": []
    },
    {
      "cell_type": "code",
      "metadata": {
        "id": "f5kRgP182lYe"
      },
      "source": [
        "bs = 256\n",
        "\n",
        "# Converts the TensorDataset into a DataLoader object and combines into one DataLoaders object (a basic wrapper\n",
        "# around several DataLoader objects). \n",
        "train_dl_minmax = DataLoader(train_ds_minmax, batch_size=bs, shuffle=True)\n",
        "valid_dl_minmax = DataLoader(valid_ds_minmax, batch_size=bs * 2)\n",
        "dls_minmax = core.DataLoaders(train_dl_minmax, valid_dl_minmax)\n",
        "\n",
        "# Converts the TensorDataset into a DataLoader object and combines into one DataLoaders object (a basic wrapper\n",
        "# around several DataLoader objects). \n",
        "train_dl_standar = DataLoader(train_ds_standar, batch_size=bs, shuffle=True)\n",
        "valid_dl_standar = DataLoader(valid_ds_standar, batch_size=bs * 2)\n",
        "dls_standar = core.DataLoaders(train_dl_standar, valid_dl_standar)"
      ],
      "execution_count": 12,
      "outputs": []
    },
    {
      "cell_type": "code",
      "metadata": {
        "id": "Z9WZ-lSv2odm"
      },
      "source": [
        "# Autoencoder model\n",
        "class AE_3D_200_LeakyReLU(nn.Module):\n",
        "    def __init__(self, n_features=4):\n",
        "        super(AE_3D_200_LeakyReLU, self).__init__()\n",
        "        self.en1 = nn.Linear(n_features, 200)\n",
        "        self.en2 = nn.Linear(200, 200)\n",
        "        self.en3 = nn.Linear(200, 20)\n",
        "        self.en4 = nn.Linear(20, 3)\n",
        "        self.de1 = nn.Linear(3, 20)\n",
        "        self.de2 = nn.Linear(20, 200)\n",
        "        self.de3 = nn.Linear(200, 200)\n",
        "        self.de4 = nn.Linear(200, n_features)\n",
        "        self.leaky_realu = nn.LeakyReLU(0.1)\n",
        "\n",
        "    def encode(self, x):\n",
        "        return self.en4(self.leaky_realu(self.en3(self.leaky_realu(self.en2(self.leaky_realu(self.en1(x)))))))\n",
        "\n",
        "    def decode(self, x):\n",
        "        return self.de4(self.leaky_realu(self.de3(self.leaky_realu(self.de2(self.leaky_realu(self.de1(self.leaky_realu(x))))))))\n",
        "\n",
        "    def forward(self, x):\n",
        "        z = self.encode(x)\n",
        "        return self.decode(z)\n",
        "\n",
        "    def describe(self):\n",
        "        return 'in-200-200-20-3-20-200-200-out'\n"
      ],
      "execution_count": 13,
      "outputs": []
    },
    {
      "cell_type": "markdown",
      "metadata": {
        "id": "Lz-e6_SYS6fC"
      },
      "source": [
        "## Training with the train data using standard normalization"
      ]
    },
    {
      "cell_type": "code",
      "metadata": {
        "cellView": "form",
        "id": "fREuf8_4aQOC",
        "colab": {
          "base_uri": "https://localhost:8080/"
        },
        "outputId": "8492bc67-823d-4772-f3d4-804dace3b59b"
      },
      "source": [
        "#@title Model used \n",
        "model = AE_3D_200_LeakyReLU()\n",
        "model.to('cpu')"
      ],
      "execution_count": 14,
      "outputs": [
        {
          "output_type": "execute_result",
          "data": {
            "text/plain": [
              "AE_3D_200_LeakyReLU(\n",
              "  (en1): Linear(in_features=4, out_features=200, bias=True)\n",
              "  (en2): Linear(in_features=200, out_features=200, bias=True)\n",
              "  (en3): Linear(in_features=200, out_features=20, bias=True)\n",
              "  (en4): Linear(in_features=20, out_features=3, bias=True)\n",
              "  (de1): Linear(in_features=3, out_features=20, bias=True)\n",
              "  (de2): Linear(in_features=20, out_features=200, bias=True)\n",
              "  (de3): Linear(in_features=200, out_features=200, bias=True)\n",
              "  (de4): Linear(in_features=200, out_features=4, bias=True)\n",
              "  (leaky_realu): LeakyReLU(negative_slope=0.1)\n",
              ")"
            ]
          },
          "metadata": {
            "tags": []
          },
          "execution_count": 14
        }
      ]
    },
    {
      "cell_type": "code",
      "metadata": {
        "id": "Lf5YVmxb2qqf"
      },
      "source": [
        "loss_func = nn.MSELoss()\n",
        "wd = 1e-6\n",
        "recorder = learner.Recorder()\n",
        "learn = learner.Learner(dls_standar, model=model, wd=wd, loss_func=loss_func, cbs=recorder)"
      ],
      "execution_count": 15,
      "outputs": []
    },
    {
      "cell_type": "code",
      "metadata": {
        "id": "FFOPQvvH2tDW",
        "cellView": "form",
        "colab": {
          "base_uri": "https://localhost:8080/",
          "height": 321
        },
        "outputId": "68d03f76-b7e4-47a2-9190-69f96fb73107"
      },
      "source": [
        "#@title finding learning rate optimum\n",
        "lr_min, lr_steep = learn.lr_find()\n",
        "\n",
        "print('Learning rate with the minimum loss:', lr_min)\n",
        "print('Learning rate with the steepest gradient:', lr_steep)"
      ],
      "execution_count": 16,
      "outputs": [
        {
          "output_type": "stream",
          "text": [
            "Learning rate with the minimum loss: 0.0033113110810518267\n",
            "Learning rate with the steepest gradient: 0.0030199517495930195\n"
          ],
          "name": "stdout"
        },
        {
          "output_type": "display_data",
          "data": {
            "image/png": "[encoded data removed]",
            "text/plain": [
              "<Figure size 432x288 with 1 Axes>"
            ]
          },
          "metadata": {
            "tags": [],
            "needs_background": "light"
          }
        }
      ]
    },
    {
      "cell_type": "code",
      "metadata": {
        "id": "uweIOt5l3VfF",
        "cellView": "form",
        "colab": {
          "base_uri": "https://localhost:8080/"
        },
        "outputId": "82f48c92-b8f9-43ff-82db-10359a1c6fa7"
      },
      "source": [
        "#@title Train\n",
        "start = time.perf_counter() # Starts timer\n",
        "learn.fit(n_epoch=100, lr=lr_min)\n",
        "end = time.perf_counter() # Ends timer\n",
        "delta_t = end - start\n",
        "print('Training took', delta_t, 'seconds')"
      ],
      "execution_count": 17,
      "outputs": [
        {
          "output_type": "stream",
          "text": [
            "[0, 0.2793984115123749, 0.05144725367426872, '00:00']\n",
            "[0, 0.2793984115123749, 0.05144725367426872, '00:00']\n",
            "[1, 0.06200854852795601, 0.0032967959996312857, '00:00']\n",
            "[1, 0.06200854852795601, 0.0032967959996312857, '00:00']\n",
            "[2, 0.015836795791983604, 0.0014868165599182248, '00:00']\n",
            "[2, 0.015836795791983604, 0.0014868165599182248, '00:00']\n",
            "[3, 0.005173706915229559, 0.0008839497459121048, '00:00']\n",
            "[3, 0.005173706915229559, 0.0008839497459121048, '00:00']\n",
            "[4, 0.002546363975852728, 0.0019125319086015224, '00:00']\n",
            "[4, 0.002546363975852728, 0.0019125319086015224, '00:00']\n",
            "[5, 0.0018517962889745831, 0.0010700891725718975, '00:00']\n",
            "[5, 0.0018517962889745831, 0.0010700891725718975, '00:00']\n",
            "[6, 0.0015898968558758497, 0.0011305847438052297, '00:00']\n",
            "[6, 0.0015898968558758497, 0.0011305847438052297, '00:00']\n",
            "[7, 0.0015246602706611156, 0.0013210850302129984, '00:00']\n",
            "[7, 0.0015246602706611156, 0.0013210850302129984, '00:00']\n",
            "[8, 0.0018727988936007023, 0.0013476317981258035, '00:00']\n",
            "[8, 0.0018727988936007023, 0.0013476317981258035, '00:00']\n",
            "[9, 0.0014339513145387173, 0.0003993935533799231, '00:00']\n",
            "[9, 0.0014339513145387173, 0.0003993935533799231, '00:00']\n",
            "[10, 0.0010482947109267116, 0.0005850894376635551, '00:00']\n",
            "[10, 0.0010482947109267116, 0.0005850894376635551, '00:00']\n",
            "[11, 0.001568908104673028, 0.001138577121309936, '00:00']\n",
            "[11, 0.001568908104673028, 0.001138577121309936, '00:00']\n",
            "[12, 0.001339958980679512, 0.0010482457000762224, '00:00']\n",
            "[12, 0.001339958980679512, 0.0010482457000762224, '00:00']\n",
            "[13, 0.0015853408258408308, 0.0008818591595627367, '00:00']\n",
            "[13, 0.0015853408258408308, 0.0008818591595627367, '00:00']\n",
            "[14, 0.0009358483366668224, 0.0016737414989620447, '00:00']\n",
            "[14, 0.0009358483366668224, 0.0016737414989620447, '00:00']\n",
            "[15, 0.001010604901239276, 0.0016821854515001178, '00:00']\n",
            "[15, 0.001010604901239276, 0.0016821854515001178, '00:00']\n",
            "[16, 0.0008277810411527753, 0.0013071775902062654, '00:00']\n",
            "[16, 0.0008277810411527753, 0.0013071775902062654, '00:00']\n",
            "[17, 0.0012554166605696082, 0.0020094921346753836, '00:00']\n",
            "[17, 0.0012554166605696082, 0.0020094921346753836, '00:00']\n",
            "[18, 0.0008736070594750345, 0.00017151139036286622, '00:00']\n",
            "[18, 0.0008736070594750345, 0.00017151139036286622, '00:00']\n",
            "[19, 0.0012082906905561686, 0.0014280554605647922, '00:00']\n",
            "[19, 0.0012082906905561686, 0.0014280554605647922, '00:00']\n",
            "[20, 0.00132909941021353, 0.00022570593864656985, '00:00']\n",
            "[20, 0.00132909941021353, 0.00022570593864656985, '00:00']\n",
            "[21, 0.0011926692677661777, 0.0008200866286642849, '00:00']\n",
            "[21, 0.0011926692677661777, 0.0008200866286642849, '00:00']\n",
            "[22, 0.0010166774736717343, 0.0006210739375092089, '00:00']\n",
            "[22, 0.0010166774736717343, 0.0006210739375092089, '00:00']\n",
            "[23, 0.0007040890632197261, 0.00031231611501425505, '00:00']\n",
            "[23, 0.0007040890632197261, 0.00031231611501425505, '00:00']\n",
            "[24, 0.0009569288231432438, 0.0006813409854657948, '00:00']\n",
            "[24, 0.0009569288231432438, 0.0006813409854657948, '00:00']\n",
            "[25, 0.0007298292475752532, 0.0007270874339155853, '00:00']\n",
            "[25, 0.0007298292475752532, 0.0007270874339155853, '00:00']\n",
            "[26, 0.0010282548610121012, 0.0008397541241720319, '00:00']\n",
            "[26, 0.0010282548610121012, 0.0008397541241720319, '00:00']\n",
            "[27, 0.00081328657688573, 0.0002194396365666762, '00:00']\n",
            "[27, 0.00081328657688573, 0.0002194396365666762, '00:00']\n",
            "[28, 0.0017673787660896778, 0.0026667085476219654, '00:00']\n",
            "[28, 0.0017673787660896778, 0.0026667085476219654, '00:00']\n",
            "[29, 0.0009212169679813087, 0.0011612138478085399, '00:00']\n",
            "[29, 0.0009212169679813087, 0.0011612138478085399, '00:00']\n",
            "[30, 0.0005473991041071713, 0.0017062186961993575, '00:00']\n",
            "[30, 0.0005473991041071713, 0.0017062186961993575, '00:00']\n",
            "[31, 0.0009765912545844913, 0.003602579003199935, '00:00']\n",
            "[31, 0.0009765912545844913, 0.003602579003199935, '00:00']\n",
            "[32, 0.0009611509740352631, 0.0004596816434059292, '00:00']\n",
            "[32, 0.0009611509740352631, 0.0004596816434059292, '00:00']\n",
            "[33, 0.0008435509516857564, 0.0014539867406710982, '00:00']\n",
            "[33, 0.0008435509516857564, 0.0014539867406710982, '00:00']\n",
            "[34, 0.0007332355016842484, 0.0002907231682911515, '00:00']\n",
            "[34, 0.0007332355016842484, 0.0002907231682911515, '00:00']\n",
            "[35, 0.0007771306554786861, 0.0009255274781025946, '00:00']\n",
            "[35, 0.0007771306554786861, 0.0009255274781025946, '00:00']\n",
            "[36, 0.0006378992693498731, 0.00040807039476931095, '00:00']\n",
            "[36, 0.0006378992693498731, 0.00040807039476931095, '00:00']\n",
            "[37, 0.001262413919903338, 0.0011726433876901865, '00:00']\n",
            "[37, 0.001262413919903338, 0.0011726433876901865, '00:00']\n",
            "[38, 0.0006485201884061098, 0.00015071053348947316, '00:00']\n",
            "[38, 0.0006485201884061098, 0.00015071053348947316, '00:00']\n",
            "[39, 0.00052358687389642, 0.00042485419544391334, '00:00']\n",
            "[39, 0.00052358687389642, 0.00042485419544391334, '00:00']\n",
            "[40, 0.0006809006445109844, 0.00026543810963630676, '00:00']\n",
            "[40, 0.0006809006445109844, 0.00026543810963630676, '00:00']\n",
            "[41, 0.0010841945186257362, 0.0052386499010026455, '00:00']\n",
            "[41, 0.0010841945186257362, 0.0052386499010026455, '00:00']\n",
            "[42, 0.0006844629533588886, 0.0001813077979022637, '00:00']\n",
            "[42, 0.0006844629533588886, 0.0001813077979022637, '00:00']\n",
            "[43, 0.0005918368697166443, 0.00048510366468690336, '00:00']\n",
            "[43, 0.0005918368697166443, 0.00048510366468690336, '00:00']\n",
            "[44, 0.0008203607285395265, 0.0011584218591451645, '00:00']\n",
            "[44, 0.0008203607285395265, 0.0011584218591451645, '00:00']\n",
            "[45, 0.0005566225736401975, 0.0004577728104777634, '00:00']\n",
            "[45, 0.0005566225736401975, 0.0004577728104777634, '00:00']\n",
            "[46, 0.0006613266887143254, 0.0004101979429833591, '00:00']\n",
            "[46, 0.0006613266887143254, 0.0004101979429833591, '00:00']\n",
            "[47, 0.000643974170088768, 0.0008525766315869987, '00:00']\n",
            "[47, 0.000643974170088768, 0.0008525766315869987, '00:00']\n",
            "[48, 0.0007056997274048626, 0.00038995713111944497, '00:00']\n",
            "[48, 0.0007056997274048626, 0.00038995713111944497, '00:00']\n",
            "[49, 0.0007376392022706568, 0.002418291522189975, '00:00']\n",
            "[49, 0.0007376392022706568, 0.002418291522189975, '00:00']\n",
            "[50, 0.0008314326987601817, 0.0005363631062209606, '00:01']\n",
            "[50, 0.0008314326987601817, 0.0005363631062209606, '00:01']\n",
            "[51, 0.0005294845905154943, 0.0007696508546359837, '00:01']\n",
            "[51, 0.0005294845905154943, 0.0007696508546359837, '00:01']\n",
            "[52, 0.0007919131312519312, 0.0011280843755230308, '00:01']\n",
            "[52, 0.0007919131312519312, 0.0011280843755230308, '00:01']\n",
            "[53, 0.0008024008711799979, 0.0010178183438256383, '00:00']\n",
            "[53, 0.0008024008711799979, 0.0010178183438256383, '00:00']\n",
            "[54, 0.0005052319029346108, 0.0007175721693783998, '00:00']\n",
            "[54, 0.0005052319029346108, 0.0007175721693783998, '00:00']\n",
            "[55, 0.0005218812148086727, 0.0007866504602134228, '00:00']\n",
            "[55, 0.0005218812148086727, 0.0007866504602134228, '00:00']\n",
            "[56, 0.0011057491647079587, 0.001208681147545576, '00:00']\n",
            "[56, 0.0011057491647079587, 0.001208681147545576, '00:00']\n",
            "[57, 0.0005143873277120292, 0.0002418588992441073, '00:00']\n",
            "[57, 0.0005143873277120292, 0.0002418588992441073, '00:00']\n",
            "[58, 0.0007122557726688683, 0.0006141836638562381, '00:00']\n",
            "[58, 0.0007122557726688683, 0.0006141836638562381, '00:00']\n",
            "[59, 0.0004658982215914875, 0.00030091495136730373, '00:00']\n",
            "[59, 0.0004658982215914875, 0.00030091495136730373, '00:00']\n",
            "[60, 0.000705630867742002, 0.0009046526392921805, '00:00']\n",
            "[60, 0.000705630867742002, 0.0009046526392921805, '00:00']\n",
            "[61, 0.0005027398583479226, 0.000524955103173852, '00:00']\n",
            "[61, 0.0005027398583479226, 0.000524955103173852, '00:00']\n",
            "[62, 0.0009454060927964747, 0.000525269249919802, '00:00']\n",
            "[62, 0.0009454060927964747, 0.000525269249919802, '00:00']\n",
            "[63, 0.0006138228345662355, 0.00046691251918673515, '00:00']\n",
            "[63, 0.0006138228345662355, 0.00046691251918673515, '00:00']\n",
            "[64, 0.00042644015047699213, 0.00021600833861157298, '00:00']\n",
            "[64, 0.00042644015047699213, 0.00021600833861157298, '00:00']\n",
            "[65, 0.0004967760178260505, 0.00046475432463921607, '00:00']\n",
            "[65, 0.0004967760178260505, 0.00046475432463921607, '00:00']\n",
            "[66, 0.0005624242476187646, 0.0003621731884777546, '00:00']\n",
            "[66, 0.0005624242476187646, 0.0003621731884777546, '00:00']\n",
            "[67, 0.0005491703632287681, 0.00036693894071504474, '00:00']\n",
            "[67, 0.0005491703632287681, 0.00036693894071504474, '00:00']\n",
            "[68, 0.0005067666643299162, 0.0005880726384930313, '00:00']\n",
            "[68, 0.0005067666643299162, 0.0005880726384930313, '00:00']\n",
            "[69, 0.000721783668268472, 0.001403255620971322, '00:00']\n",
            "[69, 0.000721783668268472, 0.001403255620971322, '00:00']\n",
            "[70, 0.0006130309775471687, 0.00039064898737706244, '00:00']\n",
            "[70, 0.0006130309775471687, 0.00039064898737706244, '00:00']\n",
            "[71, 0.0007145705167204142, 0.0004550966841634363, '00:00']\n",
            "[71, 0.0007145705167204142, 0.0004550966841634363, '00:00']\n",
            "[72, 0.0004628665337804705, 0.00036874733632430434, '00:00']\n",
            "[72, 0.0004628665337804705, 0.00036874733632430434, '00:00']\n",
            "[73, 0.00043292136979289353, 0.00046467501670122147, '00:00']\n",
            "[73, 0.00043292136979289353, 0.00046467501670122147, '00:00']\n",
            "[74, 0.000575933197978884, 0.0004225970769766718, '00:00']\n",
            "[74, 0.000575933197978884, 0.0004225970769766718, '00:00']\n",
            "[75, 0.0006013977690599859, 0.0009720340603962541, '00:00']\n",
            "[75, 0.0006013977690599859, 0.0009720340603962541, '00:00']\n",
            "[76, 0.0005660909228026867, 0.0003895521513186395, '00:00']\n",
            "[76, 0.0005660909228026867, 0.0003895521513186395, '00:00']\n",
            "[77, 0.0003130447003059089, 0.0004103616811335087, '00:00']\n",
            "[77, 0.0003130447003059089, 0.0004103616811335087, '00:00']\n",
            "[78, 0.0004269397759344429, 0.0005974022205919027, '00:00']\n",
            "[78, 0.0004269397759344429, 0.0005974022205919027, '00:00']\n",
            "[79, 0.000501511269249022, 0.000265568436589092, '00:00']\n",
            "[79, 0.000501511269249022, 0.000265568436589092, '00:00']\n",
            "[80, 0.0004579602973535657, 0.0004594126658048481, '00:00']\n",
            "[80, 0.0004579602973535657, 0.0004594126658048481, '00:00']\n",
            "[81, 0.000475346198072657, 0.00040894848643802106, '00:00']\n",
            "[81, 0.000475346198072657, 0.00040894848643802106, '00:00']\n",
            "[82, 0.0004116029595024884, 0.0003319056413602084, '00:00']\n",
            "[82, 0.0004116029595024884, 0.0003319056413602084, '00:00']\n",
            "[83, 0.00044165816507302225, 0.0003188513801433146, '00:00']\n",
            "[83, 0.00044165816507302225, 0.0003188513801433146, '00:00']\n",
            "[84, 0.0006401976570487022, 0.0007930813007988036, '00:00']\n",
            "[84, 0.0006401976570487022, 0.0007930813007988036, '00:00']\n",
            "[85, 0.0003805779851973057, 0.0003146700619254261, '00:00']\n",
            "[85, 0.0003805779851973057, 0.0003146700619254261, '00:00']\n",
            "[86, 0.0006288719596341252, 0.00040857543353922665, '00:00']\n",
            "[86, 0.0006288719596341252, 0.00040857543353922665, '00:00']\n",
            "[87, 0.00047668846673332155, 0.0003292217734269798, '00:00']\n",
            "[87, 0.00047668846673332155, 0.0003292217734269798, '00:00']\n",
            "[88, 0.0005358571070246398, 0.0005483478889800608, '00:00']\n",
            "[88, 0.0005358571070246398, 0.0005483478889800608, '00:00']\n",
            "[89, 0.0005427406867966056, 0.0003521156031638384, '00:00']\n",
            "[89, 0.0005427406867966056, 0.0003521156031638384, '00:00']\n",
            "[90, 0.00042942710570059717, 0.00021683140948880464, '00:00']\n",
            "[90, 0.00042942710570059717, 0.00021683140948880464, '00:00']\n",
            "[91, 0.0004181500989943743, 0.0004469260748010129, '00:00']\n",
            "[91, 0.0004181500989943743, 0.0004469260748010129, '00:00']\n",
            "[92, 0.00036262048524804413, 0.00031073062564246356, '00:00']\n",
            "[92, 0.00036262048524804413, 0.00031073062564246356, '00:00']\n",
            "[93, 0.0005790206487290561, 0.0004262334550730884, '00:00']\n",
            "[93, 0.0005790206487290561, 0.0004262334550730884, '00:00']\n",
            "[94, 0.00033375222119502723, 0.00016892020357772708, '00:00']\n",
            "[94, 0.00033375222119502723, 0.00016892020357772708, '00:00']\n",
            "[95, 0.0005927053862251341, 0.0005076829111203551, '00:00']\n",
            "[95, 0.0005927053862251341, 0.0005076829111203551, '00:00']\n",
            "[96, 0.0005575271788984537, 0.0005441437242552638, '00:00']\n",
            "[96, 0.0005575271788984537, 0.0005441437242552638, '00:00']\n",
            "[97, 0.00037502788472920656, 0.0005936935194768012, '00:00']\n",
            "[97, 0.00037502788472920656, 0.0005936935194768012, '00:00']\n",
            "[98, 0.0004213460779283196, 0.0014506889274343848, '00:00']\n",
            "[98, 0.0004213460779283196, 0.0014506889274343848, '00:00']\n",
            "[99, 0.0005818474455736578, 0.0002854169870261103, '00:00']\n",
            "[99, 0.0005818474455736578, 0.0002854169870261103, '00:00']\n",
            "Training took 87.361751411 seconds\n"
          ],
          "name": "stdout"
        }
      ]
    },
    {
      "cell_type": "code",
      "metadata": {
        "id": "H4kiXLFc3di1",
        "colab": {
          "base_uri": "https://localhost:8080/",
          "height": 284
        },
        "outputId": "3bd66372-15a5-4093-8135-b37924dead7b"
      },
      "source": [
        "#@title loss vs epochs\n",
        "recorder.plot_loss()\n",
        "\n",
        "print(\"Validation MSE\", learn.validate())"
      ],
      "execution_count": 18,
      "outputs": [
        {
          "output_type": "stream",
          "text": [
            "Validation MSE [0.0002854169870261103]\n"
          ],
          "name": "stdout"
        },
        {
          "output_type": "display_data",
          "data": {
            "image/png": "[encoded data removed]",
            "text/plain": [
              "<Figure size 432x288 with 1 Axes>"
            ]
          },
          "metadata": {
            "tags": [],
            "needs_background": "light"
          }
        }
      ]
    },
    {
      "cell_type": "code",
      "metadata": {
        "id": "8u5F0YwF5sUI",
        "colab": {
          "base_uri": "https://localhost:8080/",
          "height": 1000
        },
        "outputId": "c740150b-1181-40d4-ec63-98bd32c86e2e"
      },
      "source": [
        "#@title Histogram comparision between test set and predictions(STANDARD)\n",
        "def histogram_comparision(x_test,title):\n",
        "  colors = ['orange', 'c']\n",
        "  markers = ['*', 's']\n",
        "  model.to('cpu')\n",
        "\n",
        "  save = True # Option to save figure\n",
        "\n",
        "  data = torch.tensor(x_test, dtype=torch.float)\n",
        "\n",
        "  pred = model(data)\n",
        "  pred = pred.detach().numpy()\n",
        "  data = data.detach().numpy()\n",
        "\n",
        "  alph = 0.8\n",
        "  n_bins = 200\n",
        "  for kk in np.arange(4):\n",
        "      plt.figure()\n",
        "      n_hist_data, bin_edges, _ = plt.hist(data[:, kk], color=colors[1], label='Input', alpha=1, bins=n_bins)\n",
        "      n_hist_pred, _, _ = plt.hist(pred[:, kk], color=colors[0], label='Output', alpha=alph, bins=bin_edges)\n",
        "      plt.suptitle(str(kk))\n",
        "      plt.xlabel(str(kk))\n",
        "      plt.ylabel('Number of events')\n",
        "      plt.legend()\n",
        "      if save:\n",
        "          plt.savefig(os.path.join(save_dir,\"Hist_\"+str(kk)+title+'.png'))\n",
        "      \n",
        "\n",
        "\n",
        "x_test = X_test_scaled_standar\n",
        "title = \"Standar_normalization\"\n",
        "histogram_comparision(x_test,title)"
      ],
      "execution_count": 19,
      "outputs": [
        {
          "output_type": "display_data",
          "data": {
            "image/png": "[encoded data removed]",
            "text/plain": [
              "<Figure size 432x288 with 1 Axes>"
            ]
          },
          "metadata": {
            "tags": [],
            "needs_background": "light"
          }
        },
        {
          "output_type": "display_data",
          "data": {
            "image/png": "[encoded data removed]",
            "text/plain": [
              "<Figure size 432x288 with 1 Axes>"
            ]
          },
          "metadata": {
            "tags": [],
            "needs_background": "light"
          }
        },
        {
          "output_type": "display_data",
          "data": {
            "image/png": "[encoded data removed]",
            "text/plain": [
              "<Figure size 432x288 with 1 Axes>"
            ]
          },
          "metadata": {
            "tags": [],
            "needs_background": "light"
          }
        },
        {
          "output_type": "display_data",
          "data": {
            "image/png": "[encoded data removed]",
            "text/plain": [
              "<Figure size 432x288 with 1 Axes>"
            ]
          },
          "metadata": {
            "tags": [],
            "needs_background": "light"
          }
        }
      ]
    },
    {
      "cell_type": "code",
      "metadata": {
        "id": "6SjmL0vM5_I1",
        "cellView": "form"
      },
      "source": [
        "#@title Function to calculate MSE of each element in the 4D mementum\n",
        "def calculate_mse_feature(data, pred, title): \n",
        "  \n",
        "  errors = np.zeros(data.shape[1])\n",
        "  for i in range(data.shape[1]):\n",
        "    errors[i] = mean_squared_error(data[:,i], pred[:,i])\n",
        "\n",
        "  fig = plt.figure()\n",
        "\n",
        "  x = [str(i) for i in range(data.shape[1])]\n",
        "  plt.bar(x,errors)\n",
        "  plt.xlabel(\"Feature\")\n",
        "  plt.ylabel('MSE')\n",
        "  plt.title(title)\n",
        "  fig.show()\n",
        "  fig.savefig(os.path.join(save_dir, title +\".png\"))\n"
      ],
      "execution_count": 20,
      "outputs": []
    },
    {
      "cell_type": "code",
      "metadata": {
        "cellView": "form",
        "id": "KmYKkh2LjWVT"
      },
      "source": [
        "#@title Function to calculate PSNR of each element in the 4D mementum\n",
        "import math \n",
        "def calculate_psnr_feature(data, pred, title): \n",
        "  \n",
        "  psnr = np.zeros(data.shape[1])\n",
        "  for i in range(data.shape[1]):\n",
        "    range_value = data[:,i].max() - data[:,i].min()\n",
        "    mse = mean_squared_error(data[:,i], pred[:,i])\n",
        "\n",
        "    psnr[i] = 20 * math.log10(range_value / math.sqrt(mse)) \n",
        "\n",
        "  fig = plt.figure()\n",
        "\n",
        "  x = [str(i) for i in range(data.shape[1])]\n",
        "  plt.bar(x,psnr)\n",
        "  plt.xlabel(\"Feature\")\n",
        "  plt.ylabel('PSNR')\n",
        "  plt.title(title)\n",
        "  fig.show()\n",
        "  fig.savefig(os.path.join(save_dir, title +\".png\"))\n"
      ],
      "execution_count": 21,
      "outputs": []
    },
    {
      "cell_type": "code",
      "metadata": {
        "id": "TwMsgT3MAapD",
        "cellView": "form",
        "colab": {
          "base_uri": "https://localhost:8080/",
          "height": 295
        },
        "outputId": "b0a7b736-fad2-4145-e805-0859677f121d"
      },
      "source": [
        "#@title  MSE by feature with standard normalized test\n",
        "\n",
        "data = torch.tensor(X_test_scaled_standar, dtype=torch.float)\n",
        "\n",
        "pred = model(data)\n",
        "pred = pred.detach().numpy()\n",
        "data = data.detach().numpy()\n",
        "\n",
        "calculate_mse_feature(data, pred, 'error_by_feature_standard_normalization')"
      ],
      "execution_count": 22,
      "outputs": [
        {
          "output_type": "display_data",
          "data": {
            "image/png": "[encoded data removed]",
            "text/plain": [
              "<Figure size 432x288 with 1 Axes>"
            ]
          },
          "metadata": {
            "tags": [],
            "needs_background": "light"
          }
        }
      ]
    },
    {
      "cell_type": "code",
      "metadata": {
        "cellView": "form",
        "id": "TZSUd_lMlZHa",
        "colab": {
          "base_uri": "https://localhost:8080/",
          "height": 295
        },
        "outputId": "06d8ef11-7e5b-4315-991f-4edb78f40577"
      },
      "source": [
        "#@title  PSNR by feature with standar normalized test\n",
        "\n",
        "data = torch.tensor(X_test_scaled_standar, dtype=torch.float)\n",
        "\n",
        "pred = model(data)\n",
        "pred = pred.detach().numpy()\n",
        "data = data.detach().numpy()\n",
        "\n",
        "calculate_psnr_feature(data, pred, 'psnr_by_feature_standard_normalization')"
      ],
      "execution_count": 23,
      "outputs": [
        {
          "output_type": "display_data",
          "data": {
            "image/png": "[encoded data removed]",
            "text/plain": [
              "<Figure size 432x288 with 1 Axes>"
            ]
          },
          "metadata": {
            "tags": [],
            "needs_background": "light"
          }
        }
      ]
    },
    {
      "cell_type": "markdown",
      "metadata": {
        "id": "rXlIkqDyZ8z4"
      },
      "source": [
        "## Training with the train data using MinMax normalization"
      ]
    },
    {
      "cell_type": "code",
      "metadata": {
        "cellView": "form",
        "id": "qi2liSUlZ8GU",
        "colab": {
          "base_uri": "https://localhost:8080/"
        },
        "outputId": "f288be38-9f3d-4ab4-dcd7-346ecf4cecf7"
      },
      "source": [
        "#@title Model Used\n",
        "model = AE_3D_200_LeakyReLU()\n",
        "model.to('cpu')"
      ],
      "execution_count": 24,
      "outputs": [
        {
          "output_type": "execute_result",
          "data": {
            "text/plain": [
              "AE_3D_200_LeakyReLU(\n",
              "  (en1): Linear(in_features=4, out_features=200, bias=True)\n",
              "  (en2): Linear(in_features=200, out_features=200, bias=True)\n",
              "  (en3): Linear(in_features=200, out_features=20, bias=True)\n",
              "  (en4): Linear(in_features=20, out_features=3, bias=True)\n",
              "  (de1): Linear(in_features=3, out_features=20, bias=True)\n",
              "  (de2): Linear(in_features=20, out_features=200, bias=True)\n",
              "  (de3): Linear(in_features=200, out_features=200, bias=True)\n",
              "  (de4): Linear(in_features=200, out_features=4, bias=True)\n",
              "  (leaky_realu): LeakyReLU(negative_slope=0.1)\n",
              ")"
            ]
          },
          "metadata": {
            "tags": []
          },
          "execution_count": 24
        }
      ]
    },
    {
      "cell_type": "code",
      "metadata": {
        "id": "t1Z-AAkTaK21"
      },
      "source": [
        "loss_func = nn.MSELoss()\n",
        "wd = 1e-6\n",
        "recorder = learner.Recorder()\n",
        "learn = learner.Learner(dls_minmax, model=model, wd=wd, loss_func=loss_func, cbs=recorder)"
      ],
      "execution_count": 25,
      "outputs": []
    },
    {
      "cell_type": "code",
      "metadata": {
        "cellView": "form",
        "id": "mIJIAZ-uadjs",
        "colab": {
          "base_uri": "https://localhost:8080/",
          "height": 318
        },
        "outputId": "af82c4cb-3f53-4fd7-b813-3d270c35465b"
      },
      "source": [
        "#@title finding learning rate optimum\n",
        "lr_min, lr_steep = learn.lr_find()\n",
        "\n",
        "print('Learning rate with the minimum loss:', lr_min)\n",
        "print('Learning rate with the steepest gradient:', lr_steep)"
      ],
      "execution_count": 26,
      "outputs": [
        {
          "output_type": "stream",
          "text": [
            "Learning rate with the minimum loss: 0.006918309628963471\n",
            "Learning rate with the steepest gradient: 0.0010000000474974513\n"
          ],
          "name": "stdout"
        },
        {
          "output_type": "display_data",
          "data": {
            "image/png": "[encoded data removed]",
            "text/plain": [
              "<Figure size 432x288 with 1 Axes>"
            ]
          },
          "metadata": {
            "tags": [],
            "needs_background": "light"
          }
        }
      ]
    },
    {
      "cell_type": "code",
      "metadata": {
        "cellView": "form",
        "id": "imDeNq0eamoQ",
        "colab": {
          "base_uri": "https://localhost:8080/"
        },
        "outputId": "6caaeaf0-695c-477f-a2fb-b7af79da4af5"
      },
      "source": [
        "#@title Train\n",
        "start = time.perf_counter() # Starts timer\n",
        "learn.fit(n_epoch=100, lr=lr_min)\n",
        "end = time.perf_counter() # Ends timer\n",
        "delta_t = end - start\n",
        "print('Training took', delta_t, 'seconds')"
      ],
      "execution_count": 27,
      "outputs": [
        {
          "output_type": "stream",
          "text": [
            "[0, 0.025902360677719116, 0.013187738135457039, '00:01']\n",
            "[0, 0.025902360677719116, 0.013187738135457039, '00:01']\n",
            "[1, 0.011162112466990948, 0.006236072164028883, '00:00']\n",
            "[1, 0.011162112466990948, 0.006236072164028883, '00:00']\n",
            "[2, 0.007201415952295065, 0.005872777197510004, '00:00']\n",
            "[2, 0.007201415952295065, 0.005872777197510004, '00:00']\n",
            "[3, 0.005990779493004084, 0.004997712559998035, '00:00']\n",
            "[3, 0.005990779493004084, 0.004997712559998035, '00:00']\n",
            "[4, 0.00255719106644392, 0.0003248616703785956, '00:00']\n",
            "[4, 0.00255719106644392, 0.0003248616703785956, '00:00']\n",
            "[5, 0.000812191457953304, 0.0003241437952965498, '00:00']\n",
            "[5, 0.000812191457953304, 0.0003241437952965498, '00:00']\n",
            "[6, 0.00031298951944336295, 4.990607703803107e-05, '00:00']\n",
            "[6, 0.00031298951944336295, 4.990607703803107e-05, '00:00']\n",
            "[7, 0.00020999139815103263, 0.00029721143073402345, '00:00']\n",
            "[7, 0.00020999139815103263, 0.00029721143073402345, '00:00']\n",
            "[8, 0.00017053248302545398, 6.954721175134182e-05, '00:00']\n",
            "[8, 0.00017053248302545398, 6.954721175134182e-05, '00:00']\n",
            "[9, 0.00015341423568315804, 0.00011688840459100902, '00:00']\n",
            "[9, 0.00015341423568315804, 0.00011688840459100902, '00:00']\n",
            "[10, 0.00019324026652611792, 8.040625834837556e-05, '00:00']\n",
            "[10, 0.00019324026652611792, 8.040625834837556e-05, '00:00']\n",
            "[11, 0.00013623283302877098, 0.0003841480938717723, '00:00']\n",
            "[11, 0.00013623283302877098, 0.0003841480938717723, '00:00']\n",
            "[12, 0.00017605222819838673, 0.00011763804650399834, '00:00']\n",
            "[12, 0.00017605222819838673, 0.00011763804650399834, '00:00']\n",
            "[13, 0.00011686143261613324, 0.000345472275512293, '00:00']\n",
            "[13, 0.00011686143261613324, 0.000345472275512293, '00:00']\n",
            "[14, 0.00013265495363157243, 0.00015430402709171176, '00:00']\n",
            "[14, 0.00013265495363157243, 0.00015430402709171176, '00:00']\n",
            "[15, 0.00013534848403651267, 4.7946661652531475e-05, '00:00']\n",
            "[15, 0.00013534848403651267, 4.7946661652531475e-05, '00:00']\n",
            "[16, 0.00011503584391903132, 0.00010452288552187383, '00:00']\n",
            "[16, 0.00011503584391903132, 0.00010452288552187383, '00:00']\n",
            "[17, 0.00011562170402612537, 0.00011360317876096815, '00:00']\n",
            "[17, 0.00011562170402612537, 0.00011360317876096815, '00:00']\n",
            "[18, 9.923325706040487e-05, 0.00012443517334759235, '00:00']\n",
            "[18, 9.923325706040487e-05, 0.00012443517334759235, '00:00']\n",
            "[19, 0.00013859364844392985, 0.00011048665328416973, '00:00']\n",
            "[19, 0.00013859364844392985, 0.00011048665328416973, '00:00']\n",
            "[20, 9.859113197308034e-05, 3.063131953240372e-05, '00:00']\n",
            "[20, 9.859113197308034e-05, 3.063131953240372e-05, '00:00']\n",
            "[21, 9.01291350601241e-05, 9.699945076135918e-05, '00:00']\n",
            "[21, 9.01291350601241e-05, 9.699945076135918e-05, '00:00']\n",
            "[22, 0.00013381789904087782, 0.0002443747653160244, '00:00']\n",
            "[22, 0.00013381789904087782, 0.0002443747653160244, '00:00']\n",
            "[23, 9.284125553676859e-05, 3.879444193444215e-05, '00:00']\n",
            "[23, 9.284125553676859e-05, 3.879444193444215e-05, '00:00']\n",
            "[24, 7.355737034231424e-05, 4.672624709201045e-05, '00:00']\n",
            "[24, 7.355737034231424e-05, 4.672624709201045e-05, '00:00']\n",
            "[25, 8.61018561408855e-05, 0.00015284759865608066, '00:00']\n",
            "[25, 8.61018561408855e-05, 0.00015284759865608066, '00:00']\n",
            "[26, 7.781650492688641e-05, 8.035050268517807e-05, '00:00']\n",
            "[26, 7.781650492688641e-05, 8.035050268517807e-05, '00:00']\n",
            "[27, 8.264258940471336e-05, 3.9751233998686075e-05, '00:00']\n",
            "[27, 8.264258940471336e-05, 3.9751233998686075e-05, '00:00']\n",
            "[28, 0.00010018578177550808, 7.336135604418814e-05, '00:00']\n",
            "[28, 0.00010018578177550808, 7.336135604418814e-05, '00:00']\n",
            "[29, 0.00011075445945607498, 0.0003294015768915415, '00:00']\n",
            "[29, 0.00011075445945607498, 0.0003294015768915415, '00:00']\n",
            "[30, 9.813451470108703e-05, 3.549078610376455e-05, '00:00']\n",
            "[30, 9.813451470108703e-05, 3.549078610376455e-05, '00:00']\n",
            "[31, 5.0438316975487396e-05, 4.827048542210832e-05, '00:00']\n",
            "[31, 5.0438316975487396e-05, 4.827048542210832e-05, '00:00']\n",
            "[32, 9.01845414773561e-05, 3.696359271998517e-05, '00:00']\n",
            "[32, 9.01845414773561e-05, 3.696359271998517e-05, '00:00']\n",
            "[33, 4.9522546760272235e-05, 4.922796506434679e-05, '00:00']\n",
            "[33, 4.9522546760272235e-05, 4.922796506434679e-05, '00:00']\n",
            "[34, 8.716873708181083e-05, 8.113596413750201e-05, '00:00']\n",
            "[34, 8.716873708181083e-05, 8.113596413750201e-05, '00:00']\n",
            "[35, 9.119867900153622e-05, 0.00013878638856112957, '00:00']\n",
            "[35, 9.119867900153622e-05, 0.00013878638856112957, '00:00']\n",
            "[36, 6.557896995218471e-05, 3.903011020156555e-05, '00:00']\n",
            "[36, 6.557896995218471e-05, 3.903011020156555e-05, '00:00']\n",
            "[37, 0.00010265598393743858, 0.00020700317691080272, '00:00']\n",
            "[37, 0.00010265598393743858, 0.00020700317691080272, '00:00']\n",
            "[38, 6.660468352492899e-05, 5.500022234627977e-05, '00:00']\n",
            "[38, 6.660468352492899e-05, 5.500022234627977e-05, '00:00']\n",
            "[39, 5.301981946104206e-05, 2.4710498109925538e-05, '00:00']\n",
            "[39, 5.301981946104206e-05, 2.4710498109925538e-05, '00:00']\n",
            "[40, 5.2684212278109044e-05, 5.554643939831294e-05, '00:00']\n",
            "[40, 5.2684212278109044e-05, 5.554643939831294e-05, '00:00']\n",
            "[41, 0.00012375693768262863, 0.00015414056542795151, '00:00']\n",
            "[41, 0.00012375693768262863, 0.00015414056542795151, '00:00']\n",
            "[42, 5.4770662245573476e-05, 1.791858630895149e-05, '00:00']\n",
            "[42, 5.4770662245573476e-05, 1.791858630895149e-05, '00:00']\n",
            "[43, 4.919591447105631e-05, 1.3666345694218762e-05, '00:00']\n",
            "[43, 4.919591447105631e-05, 1.3666345694218762e-05, '00:00']\n",
            "[44, 4.513313979259692e-05, 9.82043202384375e-05, '00:00']\n",
            "[44, 4.513313979259692e-05, 9.82043202384375e-05, '00:00']\n",
            "[45, 4.9821923312265426e-05, 1.8175864170189016e-05, '00:00']\n",
            "[45, 4.9821923312265426e-05, 1.8175864170189016e-05, '00:00']\n",
            "[46, 6.419279088731855e-05, 6.049605144653469e-05, '00:00']\n",
            "[46, 6.419279088731855e-05, 6.049605144653469e-05, '00:00']\n",
            "[47, 6.132354610599577e-05, 2.4772189135546796e-05, '00:00']\n",
            "[47, 6.132354610599577e-05, 2.4772189135546796e-05, '00:00']\n",
            "[48, 5.603973113466054e-05, 3.19687751471065e-05, '00:00']\n",
            "[48, 5.603973113466054e-05, 3.19687751471065e-05, '00:00']\n",
            "[49, 5.5215285101439804e-05, 4.47646489192266e-05, '00:00']\n",
            "[49, 5.5215285101439804e-05, 4.47646489192266e-05, '00:00']\n",
            "[50, 4.918188278679736e-05, 3.6904810258420184e-05, '00:00']\n",
            "[50, 4.918188278679736e-05, 3.6904810258420184e-05, '00:00']\n",
            "[51, 4.117678327020258e-05, 2.264098475279752e-05, '00:00']\n",
            "[51, 4.117678327020258e-05, 2.264098475279752e-05, '00:00']\n",
            "[52, 6.303716509137303e-05, 1.773314033925999e-05, '00:00']\n",
            "[52, 6.303716509137303e-05, 1.773314033925999e-05, '00:00']\n",
            "[53, 5.4522235586773604e-05, 5.2266961574787274e-05, '00:00']\n",
            "[53, 5.4522235586773604e-05, 5.2266961574787274e-05, '00:00']\n",
            "[54, 4.450855340110138e-05, 1.8241928046336398e-05, '00:00']\n",
            "[54, 4.450855340110138e-05, 1.8241928046336398e-05, '00:00']\n",
            "[55, 6.193122680997476e-05, 5.847936336067505e-05, '00:00']\n",
            "[55, 6.193122680997476e-05, 5.847936336067505e-05, '00:00']\n",
            "[56, 3.617691254476085e-05, 3.171298521920107e-05, '00:00']\n",
            "[56, 3.617691254476085e-05, 3.171298521920107e-05, '00:00']\n",
            "[57, 4.541048838291317e-05, 3.0662726203445345e-05, '00:00']\n",
            "[57, 4.541048838291317e-05, 3.0662726203445345e-05, '00:00']\n",
            "[58, 5.405985575634986e-05, 2.5573521270416677e-05, '00:00']\n",
            "[58, 5.405985575634986e-05, 2.5573521270416677e-05, '00:00']\n",
            "[59, 3.447930794209242e-05, 5.0337319407844916e-05, '00:00']\n",
            "[59, 3.447930794209242e-05, 5.0337319407844916e-05, '00:00']\n",
            "[60, 7.198993989732116e-05, 5.450096068670973e-05, '00:00']\n",
            "[60, 7.198993989732116e-05, 5.450096068670973e-05, '00:00']\n",
            "[61, 4.5933313231216744e-05, 1.5274521501851268e-05, '00:00']\n",
            "[61, 4.5933313231216744e-05, 1.5274521501851268e-05, '00:00']\n",
            "[62, 4.676907337852754e-05, 4.9143287469632924e-05, '00:00']\n",
            "[62, 4.676907337852754e-05, 4.9143287469632924e-05, '00:00']\n",
            "[63, 4.000895205535926e-05, 1.3845135981682688e-05, '00:00']\n",
            "[63, 4.000895205535926e-05, 1.3845135981682688e-05, '00:00']\n",
            "[64, 4.351358438725583e-05, 3.915147317457013e-05, '00:00']\n",
            "[64, 4.351358438725583e-05, 3.915147317457013e-05, '00:00']\n",
            "[65, 3.717760046129115e-05, 1.603619057277683e-05, '00:00']\n",
            "[65, 3.717760046129115e-05, 1.603619057277683e-05, '00:00']\n",
            "[66, 5.251930997474119e-05, 3.115033177891746e-05, '00:00']\n",
            "[66, 5.251930997474119e-05, 3.115033177891746e-05, '00:00']\n",
            "[67, 3.725820351974107e-05, 0.0001069474674295634, '00:00']\n",
            "[67, 3.725820351974107e-05, 0.0001069474674295634, '00:00']\n",
            "[68, 4.0756083762971684e-05, 9.368151222588494e-05, '00:00']\n",
            "[68, 4.0756083762971684e-05, 9.368151222588494e-05, '00:00']\n",
            "[69, 4.853889549849555e-05, 3.587424725992605e-05, '00:00']\n",
            "[69, 4.853889549849555e-05, 3.587424725992605e-05, '00:00']\n",
            "[70, 3.589618791011162e-05, 1.4838897186564282e-05, '00:00']\n",
            "[70, 3.589618791011162e-05, 1.4838897186564282e-05, '00:00']\n",
            "[71, 3.2720694434829056e-05, 9.261793820769526e-06, '00:00']\n",
            "[71, 3.2720694434829056e-05, 9.261793820769526e-06, '00:00']\n",
            "[72, 5.695713480236009e-05, 9.462711022933945e-05, '00:00']\n",
            "[72, 5.695713480236009e-05, 9.462711022933945e-05, '00:00']\n",
            "[73, 3.647898120107129e-05, 3.468488284852356e-05, '00:00']\n",
            "[73, 3.647898120107129e-05, 3.468488284852356e-05, '00:00']\n",
            "[74, 2.8381742595229298e-05, 5.368833808461204e-05, '00:00']\n",
            "[74, 2.8381742595229298e-05, 5.368833808461204e-05, '00:00']\n",
            "[75, 3.929493323084898e-05, 0.00013615129864774644, '00:00']\n",
            "[75, 3.929493323084898e-05, 0.00013615129864774644, '00:00']\n",
            "[76, 3.547519736457616e-05, 1.3395591849985067e-05, '00:00']\n",
            "[76, 3.547519736457616e-05, 1.3395591849985067e-05, '00:00']\n",
            "[77, 4.130962406634353e-05, 1.6744057575124316e-05, '00:00']\n",
            "[77, 4.130962406634353e-05, 1.6744057575124316e-05, '00:00']\n",
            "[78, 2.7939799110754393e-05, 2.768750891846139e-05, '00:00']\n",
            "[78, 2.7939799110754393e-05, 2.768750891846139e-05, '00:00']\n",
            "[79, 3.3966905903071165e-05, 2.4556387870688923e-05, '00:00']\n",
            "[79, 3.3966905903071165e-05, 2.4556387870688923e-05, '00:00']\n",
            "[80, 3.3211610571015626e-05, 1.392944159306353e-05, '00:00']\n",
            "[80, 3.3211610571015626e-05, 1.392944159306353e-05, '00:00']\n",
            "[81, 4.003064532298595e-05, 1.7615346223465167e-05, '00:00']\n",
            "[81, 4.003064532298595e-05, 1.7615346223465167e-05, '00:00']\n",
            "[82, 3.907719292328693e-05, 2.733940345933661e-05, '00:00']\n",
            "[82, 3.907719292328693e-05, 2.733940345933661e-05, '00:00']\n",
            "[83, 3.5573852073866874e-05, 6.79938675602898e-05, '00:00']\n",
            "[83, 3.5573852073866874e-05, 6.79938675602898e-05, '00:00']\n",
            "[84, 2.997804585902486e-05, 1.5614636140526272e-05, '00:00']\n",
            "[84, 2.997804585902486e-05, 1.5614636140526272e-05, '00:00']\n",
            "[85, 3.343114804010838e-05, 9.612106077838689e-05, '00:00']\n",
            "[85, 3.343114804010838e-05, 9.612106077838689e-05, '00:00']\n",
            "[86, 3.0674724257551134e-05, 2.058073368971236e-05, '00:00']\n",
            "[86, 3.0674724257551134e-05, 2.058073368971236e-05, '00:00']\n",
            "[87, 3.8289257645374164e-05, 5.583951133303344e-05, '00:00']\n",
            "[87, 3.8289257645374164e-05, 5.583951133303344e-05, '00:00']\n",
            "[88, 4.8677262384444475e-05, 3.4636326745385304e-05, '00:00']\n",
            "[88, 4.8677262384444475e-05, 3.4636326745385304e-05, '00:00']\n",
            "[89, 2.9018739951425232e-05, 1.0121555533260107e-05, '00:00']\n",
            "[89, 2.9018739951425232e-05, 1.0121555533260107e-05, '00:00']\n",
            "[90, 3.2435251341667026e-05, 1.5586785593768582e-05, '00:00']\n",
            "[90, 3.2435251341667026e-05, 1.5586785593768582e-05, '00:00']\n",
            "[91, 2.646184657351114e-05, 7.027568244666327e-06, '00:00']\n",
            "[91, 2.646184657351114e-05, 7.027568244666327e-06, '00:00']\n",
            "[92, 3.542519698385149e-05, 1.5986037396942265e-05, '00:00']\n",
            "[92, 3.542519698385149e-05, 1.5986037396942265e-05, '00:00']\n",
            "[93, 3.86457031709142e-05, 4.188932871329598e-05, '00:00']\n",
            "[93, 3.86457031709142e-05, 4.188932871329598e-05, '00:00']\n",
            "[94, 2.7188214517082088e-05, 3.1315445085056126e-05, '00:00']\n",
            "[94, 2.7188214517082088e-05, 3.1315445085056126e-05, '00:00']\n",
            "[95, 3.765089059015736e-05, 6.289035081863403e-05, '00:00']\n",
            "[95, 3.765089059015736e-05, 6.289035081863403e-05, '00:00']\n",
            "[96, 3.0622533813584596e-05, 2.992760346387513e-05, '00:00']\n",
            "[96, 3.0622533813584596e-05, 2.992760346387513e-05, '00:00']\n",
            "[97, 3.252531314501539e-05, 1.566396349517163e-05, '00:00']\n",
            "[97, 3.252531314501539e-05, 1.566396349517163e-05, '00:00']\n",
            "[98, 2.7482401492306963e-05, 6.32707160548307e-05, '00:00']\n",
            "[98, 2.7482401492306963e-05, 6.32707160548307e-05, '00:00']\n",
            "[99, 2.745269375736825e-05, 1.4371186807693448e-05, '00:00']\n",
            "[99, 2.745269375736825e-05, 1.4371186807693448e-05, '00:00']\n",
            "Training took 84.80300894799984 seconds\n"
          ],
          "name": "stdout"
        }
      ]
    },
    {
      "cell_type": "code",
      "metadata": {
        "cellView": "form",
        "id": "T88jIZZmatyO",
        "colab": {
          "base_uri": "https://localhost:8080/",
          "height": 282
        },
        "outputId": "02248cb2-eb43-4a76-8542-9c91b9f3964e"
      },
      "source": [
        "#@title loss vs epochs\n",
        "recorder.plot_loss()\n",
        "\n",
        "print(\"Validation MSE\", learn.validate())"
      ],
      "execution_count": 28,
      "outputs": [
        {
          "output_type": "stream",
          "text": [
            "Validation MSE [1.4371186807693448e-05]\n"
          ],
          "name": "stdout"
        },
        {
          "output_type": "display_data",
          "data": {
            "image/png": "[encoded data removed]",
            "text/plain": [
              "<Figure size 432x288 with 1 Axes>"
            ]
          },
          "metadata": {
            "tags": [],
            "needs_background": "light"
          }
        }
      ]
    },
    {
      "cell_type": "code",
      "metadata": {
        "cellView": "form",
        "id": "uXFs6Z6FaxQF",
        "colab": {
          "base_uri": "https://localhost:8080/",
          "height": 1000
        },
        "outputId": "b7217121-d1db-4523-e62a-c97c103a812a"
      },
      "source": [
        "#@title Histogram comparision between test set and predictions(MinMax)\n",
        "\n",
        "x_test = X_test_scaled_min_max\n",
        "title = \"MinMax_normalization\"\n",
        "histogram_comparision(x_test,title)"
      ],
      "execution_count": 29,
      "outputs": [
        {
          "output_type": "display_data",
          "data": {
            "image/png": "[encoded data removed]",
            "text/plain": [
              "<Figure size 432x288 with 1 Axes>"
            ]
          },
          "metadata": {
            "tags": [],
            "needs_background": "light"
          }
        },
        {
          "output_type": "display_data",
          "data": {
            "image/png": "[encoded data removed]",
            "text/plain": [
              "<Figure size 432x288 with 1 Axes>"
            ]
          },
          "metadata": {
            "tags": [],
            "needs_background": "light"
          }
        },
        {
          "output_type": "display_data",
          "data": {
            "image/png": "[encoded data removed]",
            "text/plain": [
              "<Figure size 432x288 with 1 Axes>"
            ]
          },
          "metadata": {
            "tags": [],
            "needs_background": "light"
          }
        },
        {
          "output_type": "display_data",
          "data": {
            "image/png": "[encoded data removed]",
            "text/plain": [
              "<Figure size 432x288 with 1 Axes>"
            ]
          },
          "metadata": {
            "tags": [],
            "needs_background": "light"
          }
        }
      ]
    },
    {
      "cell_type": "code",
      "metadata": {
        "cellView": "form",
        "id": "bTOCUVHBbb2c",
        "colab": {
          "base_uri": "https://localhost:8080/",
          "height": 295
        },
        "outputId": "a5756eaf-4d95-4b18-daf7-e5b9095900ca"
      },
      "source": [
        "#@title MSE by feature with MinMax normalized test\n",
        "data = torch.tensor(X_test_scaled_min_max, dtype=torch.float)\n",
        "\n",
        "pred = model(data)\n",
        "pred = pred.detach().numpy()\n",
        "data = data.detach().numpy()\n",
        "\n",
        "calculate_mse_feature(data, pred, 'error_by_feature_minmax_normalization')"
      ],
      "execution_count": 30,
      "outputs": [
        {
          "output_type": "display_data",
          "data": {
            "image/png": "[encoded data removed]",
            "text/plain": [
              "<Figure size 432x288 with 1 Axes>"
            ]
          },
          "metadata": {
            "tags": [],
            "needs_background": "light"
          }
        }
      ]
    },
    {
      "cell_type": "code",
      "metadata": {
        "cellView": "form",
        "id": "5OJI3VlpiKTi",
        "colab": {
          "base_uri": "https://localhost:8080/",
          "height": 295
        },
        "outputId": "2c0fca97-8fc8-4d29-9b78-8c30c1fac95b"
      },
      "source": [
        "#@title  PSNR by feature with MinMax normalized test\n",
        "\n",
        "data = torch.tensor(X_test_scaled_min_max, dtype=torch.float)\n",
        "\n",
        "pred = model(data)\n",
        "pred = pred.detach().numpy()\n",
        "data = data.detach().numpy()\n",
        "\n",
        "calculate_psnr_feature(data, pred, 'psnr_by_feature_minmax_normalization')"
      ],
      "execution_count": 31,
      "outputs": [
        {
          "output_type": "display_data",
          "data": {
            "image/png": "[encoded data removed]",
            "text/plain": [
              "<Figure size 432x288 with 1 Axes>"
            ]
          },
          "metadata": {
            "tags": [],
            "needs_background": "light"
          }
        }
      ]
    },
    {
      "cell_type": "markdown",
      "metadata": {
        "id": "G3Su08aMmgWe"
      },
      "source": [
        "## Summary & Conclusions"
      ]
    },
    {
      "cell_type": "markdown",
      "metadata": {
        "id": "t5NuR3ZhmkCo"
      },
      "source": [
        "\r\n",
        "\r\n",
        "*   This notebook consists in the implementation of the first evaluation process to apply in the Deep autoencoders data compression in ATLAS \r\n",
        "*   An autoencoder to compress the four-momentum of a sample of simulated particles from 4 to 3 variables was successfully implemented.\r\n",
        "*   Two different methods to normalized data was evaluated in order to achieve better results.\r\n",
        "\r\n"
      ]
    }
  ]
}