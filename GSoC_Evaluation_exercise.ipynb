{
  "nbformat": 4,
  "nbformat_minor": 0,
  "metadata": {
    "colab": {
      "name": "GSoC_Evaluation_exercise.ipynb",
      "provenance": [],
      "collapsed_sections": []
    },
    "kernelspec": {
      "name": "python3",
      "display_name": "Python 3"
    }
  },
  "cells": [
    {
      "cell_type": "code",
      "metadata": {
        "id": "_BRpHkB2crt7",
        "colab": {
          "base_uri": "https://localhost:8080/"
        },
        "cellView": "form",
        "outputId": "d06c67fd-6847-4166-a0ff-7b2b8496c40d"
      },
      "source": [
        "#@title connect google drive \r\n",
        "from google.colab import drive\r\n",
        "import numpy as np\r\n",
        "import os\r\n",
        "\r\n",
        "\r\n",
        "drive.mount('/content/gdrive')\r\n",
        "os.chdir(\"/content/gdrive/MyDrive/GSoC/Evaluation\")"
      ],
      "execution_count": 1,
      "outputs": [
        {
          "output_type": "stream",
          "text": [
            "Drive already mounted at /content/gdrive; to attempt to forcibly remount, call drive.mount(\"/content/gdrive\", force_remount=True).\n"
          ],
          "name": "stdout"
        }
      ]
    },
    {
      "cell_type": "code",
      "metadata": {
        "id": "RhcpP5Ire49T",
        "colab": {
          "base_uri": "https://localhost:8080/"
        },
        "cellView": "form",
        "outputId": "e71a4b5c-ee0d-4dff-8463-58bb0a920b7b"
      },
      "source": [
        "#@title Import libraries\r\n",
        "!pip install torch torchvision torchaudio --upgrade\r\n",
        "!pip install fastai --upgrade\r\n",
        "import pandas as pd\r\n",
        "import time\r\n",
        "from sklearn.preprocessing import StandardScaler\r\n",
        "from sklearn.preprocessing import MinMaxScaler\r\n",
        "from sklearn.model_selection import train_test_split\r\n",
        "from sklearn.metrics import mean_squared_error\r\n",
        "import matplotlib.pyplot as plt\r\n",
        "import torch\r\n",
        "import torch.nn as nn\r\n",
        "import torch.optim as optim\r\n",
        "import torch.utils.data\r\n",
        "from torch.autograd import Variable\r\n",
        "from fastai.metrics import mse\r\n",
        "from fastai.callback import schedule\r\n",
        "from torch.utils.data import TensorDataset\r\n",
        "from torch.utils.data import DataLoader\r\n",
        "\r\n",
        "from fastai import learner\r\n",
        "from fastai.data import core\r\n",
        "\r\n",
        "import pandas as pd\r\n",
        "import numpy as np\r\n",
        "import matplotlib.pyplot as plt"
      ],
      "execution_count": 2,
      "outputs": [
        {
          "output_type": "stream",
          "text": [
            "Collecting torch\n",
            "  Using cached https://files.pythonhosted.org/packages/94/99/5861239a6e1ffe66e120f114a4d67e96e5c4b17c1a785dfc6ca6769585fc/torch-1.8.0-cp37-cp37m-manylinux1_x86_64.whl\n",
            "Collecting torchvision\n",
            "  Using cached https://files.pythonhosted.org/packages/6f/6a/4e8d7c897f24a6aa9d5e7c23a157b52084ccd43d1b6019603361d2136dde/torchvision-0.9.0-cp37-cp37m-manylinux1_x86_64.whl\n",
            "Requirement already up-to-date: torchaudio in /usr/local/lib/python3.7/dist-packages (0.8.0)\n",
            "Requirement already satisfied, skipping upgrade: numpy in /usr/local/lib/python3.7/dist-packages (from torch) (1.19.5)\n",
            "Requirement already satisfied, skipping upgrade: typing-extensions in /usr/local/lib/python3.7/dist-packages (from torch) (3.7.4.3)\n",
            "Requirement already satisfied, skipping upgrade: pillow>=4.1.1 in /usr/local/lib/python3.7/dist-packages (from torchvision) (7.0.0)\n",
            "\u001b[31mERROR: fastai 2.2.7 has requirement torch<1.8,>=1.7.0, but you'll have torch 1.8.0 which is incompatible.\u001b[0m\n",
            "\u001b[31mERROR: fastai 2.2.7 has requirement torchvision<0.9,>=0.8, but you'll have torchvision 0.9.0 which is incompatible.\u001b[0m\n",
            "Installing collected packages: torch, torchvision\n",
            "  Found existing installation: torch 1.7.1\n",
            "    Uninstalling torch-1.7.1:\n",
            "      Successfully uninstalled torch-1.7.1\n",
            "  Found existing installation: torchvision 0.8.2\n",
            "    Uninstalling torchvision-0.8.2:\n",
            "      Successfully uninstalled torchvision-0.8.2\n",
            "Successfully installed torch-1.8.0 torchvision-0.9.0\n",
            "Requirement already up-to-date: fastai in /usr/local/lib/python3.7/dist-packages (2.2.7)\n",
            "Requirement already satisfied, skipping upgrade: spacy<3 in /usr/local/lib/python3.7/dist-packages (from fastai) (2.2.4)\n",
            "Requirement already satisfied, skipping upgrade: scikit-learn in /usr/local/lib/python3.7/dist-packages (from fastai) (0.22.2.post1)\n",
            "Requirement already satisfied, skipping upgrade: matplotlib in /usr/local/lib/python3.7/dist-packages (from fastai) (3.2.2)\n",
            "Requirement already satisfied, skipping upgrade: pandas in /usr/local/lib/python3.7/dist-packages (from fastai) (1.1.5)\n",
            "Requirement already satisfied, skipping upgrade: scipy in /usr/local/lib/python3.7/dist-packages (from fastai) (1.4.1)\n",
            "Collecting torchvision<0.9,>=0.8\n",
            "  Using cached https://files.pythonhosted.org/packages/94/df/969e69a94cff1c8911acb0688117f95e1915becc1e01c73e7960a2c76ec8/torchvision-0.8.2-cp37-cp37m-manylinux1_x86_64.whl\n",
            "Requirement already satisfied, skipping upgrade: fastcore<1.4,>=1.3.8 in /usr/local/lib/python3.7/dist-packages (from fastai) (1.3.19)\n",
            "Requirement already satisfied, skipping upgrade: fastprogress>=0.2.4 in /usr/local/lib/python3.7/dist-packages (from fastai) (1.0.0)\n",
            "Requirement already satisfied, skipping upgrade: requests in /usr/local/lib/python3.7/dist-packages (from fastai) (2.23.0)\n",
            "Requirement already satisfied, skipping upgrade: pip in /usr/local/lib/python3.7/dist-packages (from fastai) (19.3.1)\n",
            "Requirement already satisfied, skipping upgrade: pyyaml in /usr/local/lib/python3.7/dist-packages (from fastai) (3.13)\n",
            "Requirement already satisfied, skipping upgrade: packaging in /usr/local/lib/python3.7/dist-packages (from fastai) (20.9)\n",
            "Requirement already satisfied, skipping upgrade: pillow>6.0.0 in /usr/local/lib/python3.7/dist-packages (from fastai) (7.0.0)\n",
            "Collecting torch<1.8,>=1.7.0\n",
            "  Using cached https://files.pythonhosted.org/packages/90/5d/095ddddc91c8a769a68c791c019c5793f9c4456a688ddd235d6670924ecb/torch-1.7.1-cp37-cp37m-manylinux1_x86_64.whl\n",
            "Requirement already satisfied, skipping upgrade: numpy>=1.15.0 in /usr/local/lib/python3.7/dist-packages (from spacy<3->fastai) (1.19.5)\n",
            "Requirement already satisfied, skipping upgrade: catalogue<1.1.0,>=0.0.7 in /usr/local/lib/python3.7/dist-packages (from spacy<3->fastai) (1.0.0)\n",
            "Requirement already satisfied, skipping upgrade: blis<0.5.0,>=0.4.0 in /usr/local/lib/python3.7/dist-packages (from spacy<3->fastai) (0.4.1)\n",
            "Requirement already satisfied, skipping upgrade: wasabi<1.1.0,>=0.4.0 in /usr/local/lib/python3.7/dist-packages (from spacy<3->fastai) (0.8.2)\n",
            "Requirement already satisfied, skipping upgrade: thinc==7.4.0 in /usr/local/lib/python3.7/dist-packages (from spacy<3->fastai) (7.4.0)\n",
            "Requirement already satisfied, skipping upgrade: plac<1.2.0,>=0.9.6 in /usr/local/lib/python3.7/dist-packages (from spacy<3->fastai) (1.1.3)\n",
            "Requirement already satisfied, skipping upgrade: srsly<1.1.0,>=1.0.2 in /usr/local/lib/python3.7/dist-packages (from spacy<3->fastai) (1.0.5)\n",
            "Requirement already satisfied, skipping upgrade: cymem<2.1.0,>=2.0.2 in /usr/local/lib/python3.7/dist-packages (from spacy<3->fastai) (2.0.5)\n",
            "Requirement already satisfied, skipping upgrade: murmurhash<1.1.0,>=0.28.0 in /usr/local/lib/python3.7/dist-packages (from spacy<3->fastai) (1.0.5)\n",
            "Requirement already satisfied, skipping upgrade: setuptools in /usr/local/lib/python3.7/dist-packages (from spacy<3->fastai) (54.0.0)\n",
            "Requirement already satisfied, skipping upgrade: preshed<3.1.0,>=3.0.2 in /usr/local/lib/python3.7/dist-packages (from spacy<3->fastai) (3.0.5)\n",
            "Requirement already satisfied, skipping upgrade: tqdm<5.0.0,>=4.38.0 in /usr/local/lib/python3.7/dist-packages (from spacy<3->fastai) (4.41.1)\n",
            "Requirement already satisfied, skipping upgrade: joblib>=0.11 in /usr/local/lib/python3.7/dist-packages (from scikit-learn->fastai) (1.0.1)\n",
            "Requirement already satisfied, skipping upgrade: python-dateutil>=2.1 in /usr/local/lib/python3.7/dist-packages (from matplotlib->fastai) (2.8.1)\n",
            "Requirement already satisfied, skipping upgrade: cycler>=0.10 in /usr/local/lib/python3.7/dist-packages (from matplotlib->fastai) (0.10.0)\n",
            "Requirement already satisfied, skipping upgrade: pyparsing!=2.0.4,!=2.1.2,!=2.1.6,>=2.0.1 in /usr/local/lib/python3.7/dist-packages (from matplotlib->fastai) (2.4.7)\n",
            "Requirement already satisfied, skipping upgrade: kiwisolver>=1.0.1 in /usr/local/lib/python3.7/dist-packages (from matplotlib->fastai) (1.3.1)\n",
            "Requirement already satisfied, skipping upgrade: pytz>=2017.2 in /usr/local/lib/python3.7/dist-packages (from pandas->fastai) (2018.9)\n",
            "Requirement already satisfied, skipping upgrade: idna<3,>=2.5 in /usr/local/lib/python3.7/dist-packages (from requests->fastai) (2.10)\n",
            "Requirement already satisfied, skipping upgrade: urllib3!=1.25.0,!=1.25.1,<1.26,>=1.21.1 in /usr/local/lib/python3.7/dist-packages (from requests->fastai) (1.24.3)\n",
            "Requirement already satisfied, skipping upgrade: certifi>=2017.4.17 in /usr/local/lib/python3.7/dist-packages (from requests->fastai) (2020.12.5)\n",
            "Requirement already satisfied, skipping upgrade: chardet<4,>=3.0.2 in /usr/local/lib/python3.7/dist-packages (from requests->fastai) (3.0.4)\n",
            "Requirement already satisfied, skipping upgrade: typing-extensions in /usr/local/lib/python3.7/dist-packages (from torch<1.8,>=1.7.0->fastai) (3.7.4.3)\n",
            "Requirement already satisfied, skipping upgrade: importlib-metadata>=0.20; python_version < \"3.8\" in /usr/local/lib/python3.7/dist-packages (from catalogue<1.1.0,>=0.0.7->spacy<3->fastai) (3.7.0)\n",
            "Requirement already satisfied, skipping upgrade: six>=1.5 in /usr/local/lib/python3.7/dist-packages (from python-dateutil>=2.1->matplotlib->fastai) (1.15.0)\n",
            "Requirement already satisfied, skipping upgrade: zipp>=0.5 in /usr/local/lib/python3.7/dist-packages (from importlib-metadata>=0.20; python_version < \"3.8\"->catalogue<1.1.0,>=0.0.7->spacy<3->fastai) (3.4.1)\n",
            "\u001b[31mERROR: torchtext 0.9.0 has requirement torch==1.8.0, but you'll have torch 1.7.1 which is incompatible.\u001b[0m\n",
            "\u001b[31mERROR: torchaudio 0.8.0 has requirement torch==1.8.0, but you'll have torch 1.7.1 which is incompatible.\u001b[0m\n",
            "Installing collected packages: torch, torchvision\n",
            "  Found existing installation: torch 1.8.0\n",
            "    Uninstalling torch-1.8.0:\n",
            "      Successfully uninstalled torch-1.8.0\n",
            "  Found existing installation: torchvision 0.9.0\n",
            "    Uninstalling torchvision-0.9.0:\n",
            "      Successfully uninstalled torchvision-0.9.0\n",
            "Successfully installed torch-1.7.1 torchvision-0.8.2\n"
          ],
          "name": "stdout"
        }
      ]
    },
    {
      "cell_type": "code",
      "metadata": {
        "id": "86vjmCrf5QCM"
      },
      "source": [
        "save_dir = \"plotOutput\"\r\n",
        "if not os.path.exists(save_dir):\r\n",
        "    os.makedirs(save_dir)"
      ],
      "execution_count": 3,
      "outputs": []
    },
    {
      "cell_type": "markdown",
      "metadata": {
        "id": "hk9MGtQixW_Z"
      },
      "source": [
        "## Read Data"
      ]
    },
    {
      "cell_type": "markdown",
      "metadata": {
        "id": "2bvY9qiuFllj"
      },
      "source": [
        "As the dataset has a variable number of jets in each row, i decided to read every line, and extract all 4D momentum data of each jet and collect them in a numpy array with shape (N_JETS, 4)"
      ]
    },
    {
      "cell_type": "code",
      "metadata": {
        "id": "mHLTVHbTfGqw"
      },
      "source": [
        "with open(\"monojet_Zp2000.0_DM_50.0_chan3.csv\", 'r') as csv_file: \r\n",
        "  lines_dataset = csv_file.readlines() # Reading csv file and get all lines"
      ],
      "execution_count": 4,
      "outputs": []
    },
    {
      "cell_type": "code",
      "metadata": {
        "id": "PG1IzssrqlNj"
      },
      "source": [
        "X = []\r\n",
        "for line in lines_dataset: \r\n",
        "  event = line.split(\";\") # taking each line and spliting by ';'\r\n",
        "  jets_ = []\r\n",
        "  for item in event:\r\n",
        "    if item.startswith(\"j,\"): # Each jet momentum will be save in the dataset array, otherwise will ignore\r\n",
        "      jets_  = jets_ + [item[2:].split(\",\")] \r\n",
        "  X = X + jets_\r\n",
        "\r\n",
        "\r\n",
        "dataset = np.array(X, dtype=float) # Encapsuling in numpy array\r\n"
      ],
      "execution_count": 5,
      "outputs": []
    },
    {
      "cell_type": "code",
      "metadata": {
        "colab": {
          "base_uri": "https://localhost:8080/",
          "height": 1000
        },
        "id": "jESFRfqHxtjY",
        "cellView": "form",
        "outputId": "0e0f3f13-6b2d-4c16-f403-129f39613d58"
      },
      "source": [
        "#@title Plot histogram of original data\r\n",
        "n_bins = 100\r\n",
        "#df = pd.DataFrame(dataset, dtype = float)\r\n",
        "for kk in range(0,4):\r\n",
        "    n_hist_data, bin_edges, _ = plt.hist(dataset[:,kk], color='gray', label='Input', alpha=1, bins=n_bins)\r\n",
        "    plt.xlabel(xlabel=str(kk))\r\n",
        "    plt.ylabel('# of events')\r\n",
        "    #plt.savefig(\"fourmomentum_\"+branches[kk],dpi=300)\r\n",
        "    plt.show()"
      ],
      "execution_count": 6,
      "outputs": [
        {
          "output_type": "display_data",
          "data": {
            "image/png": "[encoded data removed]",
            "text/plain": [
              "<Figure size 432x288 with 1 Axes>"
            ]
          },
          "metadata": {
            "tags": [],
            "needs_background": "light"
          }
        },
        {
          "output_type": "display_data",
          "data": {
            "image/png": "[encoded data removed]",
            "text/plain": [
              "<Figure size 432x288 with 1 Axes>"
            ]
          },
          "metadata": {
            "tags": [],
            "needs_background": "light"
          }
        },
        {
          "output_type": "display_data",
          "data": {
            "image/png": "[encoded data removed]",
            "text/plain": [
              "<Figure size 432x288 with 1 Axes>"
            ]
          },
          "metadata": {
            "tags": [],
            "needs_background": "light"
          }
        },
        {
          "output_type": "display_data",
          "data": {
            "image/png": "[encoded data removed]",
            "text/plain": [
              "<Figure size 432x288 with 1 Axes>"
            ]
          },
          "metadata": {
            "tags": [],
            "needs_background": "light"
          }
        }
      ]
    },
    {
      "cell_type": "markdown",
      "metadata": {
        "id": "Dvv9TSK4xeDw"
      },
      "source": [
        "## Train test split dataset"
      ]
    },
    {
      "cell_type": "code",
      "metadata": {
        "id": "nbEu0V4-u7gJ"
      },
      "source": [
        "X_train, X_test = train_test_split(dataset, test_size=0.2, random_state=42)  # Train and test division for comparing proposes"
      ],
      "execution_count": 7,
      "outputs": []
    },
    {
      "cell_type": "markdown",
      "metadata": {
        "id": "sHcugfDvLUW3"
      },
      "source": [
        "## Normalizing data\r\n",
        "\r\n",
        "I'm going to experiment with two different normalizations implemented in the scikit-learn library \r\n",
        "\r\n",
        "\r\n",
        "*   [MinMaxScaler](https://scikit-learn.org/stable/modules/generated/sklearn.preprocessing.MinMaxScaler.html)\r\n",
        "*   [StandardScaler](https://scikit-learn.org/stable/modules/generated/sklearn.preprocessing.StandardScaler.html)\r\n",
        "\r\n",
        "\r\n",
        "The report of the results is at the final of the notebook\r\n"
      ]
    },
    {
      "cell_type": "code",
      "metadata": {
        "id": "1s7BjjJjBV2d"
      },
      "source": [
        "scaler_min_max = MinMaxScaler() # To scale data\r\n",
        "X_train_scaled_min_max = scaler_min_max.fit_transform(X_train) # Fit with train data\r\n",
        "X_test_scaled_min_max = scaler_min_max.transform(X_test) # Transform the test data\r\n",
        "\r\n",
        "scaler_standar = StandardScaler() # To scale data\r\n",
        "X_train_scaled_standar = scaler_standar.fit_transform(X_train) # Fit with train data\r\n",
        "X_test_scaled_standar = scaler_standar.transform(X_test) # Transform the test data"
      ],
      "execution_count": 8,
      "outputs": []
    },
    {
      "cell_type": "code",
      "metadata": {
        "id": "48fInTe80XXK"
      },
      "source": [
        "def get_TensorDatasets(X_train_scaled, X_test_scaled):\r\n",
        "  # Constructs a tensor object of the data and wraps them in a TensorDataset object.\r\n",
        "  train_x = X_train_scaled\r\n",
        "  train_y = X_train_scaled\r\n",
        "  test_x = X_test_scaled\r\n",
        "  test_y = X_test_scaled\r\n",
        "\r\n",
        "  train_ds = TensorDataset(torch.tensor(train_x, dtype=torch.float), torch.tensor(train_y, dtype=torch.float))\r\n",
        "  valid_ds = TensorDataset(torch.tensor(test_x, dtype=torch.float), torch.tensor(test_y, dtype=torch.float))\r\n",
        "\r\n",
        "  return train_ds,valid_ds\r\n",
        "\r\n",
        "train_ds_minmax,valid_ds_minmax = get_TensorDatasets(X_train_scaled_min_max, X_test_scaled_min_max)\r\n",
        "train_ds_standar,valid_ds_standar = get_TensorDatasets(X_train_scaled_standar, X_test_scaled_standar)"
      ],
      "execution_count": 9,
      "outputs": []
    },
    {
      "cell_type": "code",
      "metadata": {
        "id": "f5kRgP182lYe"
      },
      "source": [
        "bs = 256\r\n",
        "\r\n",
        "# Converts the TensorDataset into a DataLoader object and combines into one DataLoaders object (a basic wrapper\r\n",
        "# around several DataLoader objects). \r\n",
        "train_dl_minmax = DataLoader(train_ds_minmax, batch_size=bs, shuffle=True)\r\n",
        "valid_dl_minmax = DataLoader(valid_ds_minmax, batch_size=bs * 2)\r\n",
        "dls_minmax = core.DataLoaders(train_dl_minmax, valid_dl_minmax)\r\n",
        "\r\n",
        "# Converts the TensorDataset into a DataLoader object and combines into one DataLoaders object (a basic wrapper\r\n",
        "# around several DataLoader objects). \r\n",
        "train_dl_standar = DataLoader(train_ds_standar, batch_size=bs, shuffle=True)\r\n",
        "valid_dl_standar = DataLoader(valid_ds_standar, batch_size=bs * 2)\r\n",
        "dls_standar = core.DataLoaders(train_dl_standar, valid_dl_standar)"
      ],
      "execution_count": 10,
      "outputs": []
    },
    {
      "cell_type": "code",
      "metadata": {
        "id": "Z9WZ-lSv2odm"
      },
      "source": [
        "# Autoencoder model\r\n",
        "class AE_3D_200_LeakyReLU(nn.Module):\r\n",
        "    def __init__(self, n_features=4):\r\n",
        "        super(AE_3D_200_LeakyReLU, self).__init__()\r\n",
        "        self.en1 = nn.Linear(n_features, 200)\r\n",
        "        self.en2 = nn.Linear(200, 200)\r\n",
        "        self.en3 = nn.Linear(200, 20)\r\n",
        "        self.en4 = nn.Linear(20, 3)\r\n",
        "        self.de1 = nn.Linear(3, 20)\r\n",
        "        self.de2 = nn.Linear(20, 200)\r\n",
        "        self.de3 = nn.Linear(200, 200)\r\n",
        "        self.de4 = nn.Linear(200, n_features)\r\n",
        "        self.leaky_realu = nn.LeakyReLU(0.1)\r\n",
        "\r\n",
        "    def encode(self, x):\r\n",
        "        return self.en4(self.leaky_realu(self.en3(self.leaky_realu(self.en2(self.leaky_realu(self.en1(x)))))))\r\n",
        "\r\n",
        "    def decode(self, x):\r\n",
        "        return self.de4(self.leaky_realu(self.de3(self.leaky_realu(self.de2(self.leaky_realu(self.de1(self.leaky_realu(x))))))))\r\n",
        "\r\n",
        "    def forward(self, x):\r\n",
        "        z = self.encode(x)\r\n",
        "        return self.decode(z)\r\n",
        "\r\n",
        "    def describe(self):\r\n",
        "        return 'in-200-200-20-3-20-200-200-out'\r\n"
      ],
      "execution_count": 11,
      "outputs": []
    },
    {
      "cell_type": "markdown",
      "metadata": {
        "id": "Lz-e6_SYS6fC"
      },
      "source": [
        "## Training with the train data using standard normalization"
      ]
    },
    {
      "cell_type": "code",
      "metadata": {
        "colab": {
          "base_uri": "https://localhost:8080/"
        },
        "cellView": "form",
        "id": "fREuf8_4aQOC",
        "outputId": "480ef842-3e97-469b-e4bc-55757826cebb"
      },
      "source": [
        "#@title Model used \r\n",
        "model = AE_3D_200_LeakyReLU()\r\n",
        "model.to('cpu')"
      ],
      "execution_count": 12,
      "outputs": [
        {
          "output_type": "execute_result",
          "data": {
            "text/plain": [
              "AE_3D_200_LeakyReLU(\n",
              "  (en1): Linear(in_features=4, out_features=200, bias=True)\n",
              "  (en2): Linear(in_features=200, out_features=200, bias=True)\n",
              "  (en3): Linear(in_features=200, out_features=20, bias=True)\n",
              "  (en4): Linear(in_features=20, out_features=3, bias=True)\n",
              "  (de1): Linear(in_features=3, out_features=20, bias=True)\n",
              "  (de2): Linear(in_features=20, out_features=200, bias=True)\n",
              "  (de3): Linear(in_features=200, out_features=200, bias=True)\n",
              "  (de4): Linear(in_features=200, out_features=4, bias=True)\n",
              "  (leaky_realu): LeakyReLU(negative_slope=0.1)\n",
              ")"
            ]
          },
          "metadata": {
            "tags": []
          },
          "execution_count": 12
        }
      ]
    },
    {
      "cell_type": "code",
      "metadata": {
        "id": "Lf5YVmxb2qqf"
      },
      "source": [
        "loss_func = nn.MSELoss()\r\n",
        "wd = 1e-6\r\n",
        "recorder = learner.Recorder()\r\n",
        "learn = learner.Learner(dls_standar, model=model, wd=wd, loss_func=loss_func, cbs=recorder)"
      ],
      "execution_count": 13,
      "outputs": []
    },
    {
      "cell_type": "code",
      "metadata": {
        "colab": {
          "base_uri": "https://localhost:8080/",
          "height": 317
        },
        "id": "FFOPQvvH2tDW",
        "cellView": "form",
        "outputId": "066fce7e-3223-407a-d2e6-2805d7f2027c"
      },
      "source": [
        "#@title finding learning rate optimum\r\n",
        "lr_min, lr_steep = learn.lr_find()\r\n",
        "\r\n",
        "print('Learning rate with the minimum loss:', lr_min)\r\n",
        "print('Learning rate with the steepest gradient:', lr_steep)"
      ],
      "execution_count": 14,
      "outputs": [
        {
          "output_type": "stream",
          "text": [
            "Learning rate with the minimum loss: 0.003981071710586548\n",
            "Learning rate with the steepest gradient: 0.002511886414140463\n"
          ],
          "name": "stdout"
        },
        {
          "output_type": "display_data",
          "data": {
            "image/png": "[encoded data removed]",
            "text/plain": [
              "<Figure size 432x288 with 1 Axes>"
            ]
          },
          "metadata": {
            "tags": [],
            "needs_background": "light"
          }
        }
      ]
    },
    {
      "cell_type": "code",
      "metadata": {
        "colab": {
          "base_uri": "https://localhost:8080/"
        },
        "id": "uweIOt5l3VfF",
        "cellView": "form",
        "outputId": "13a9f20d-7013-460b-83cf-9a2b9cb409af"
      },
      "source": [
        "#@title Train\r\n",
        "start = time.perf_counter() # Starts timer\r\n",
        "learn.fit(n_epoch=100, lr=lr_min)\r\n",
        "end = time.perf_counter() # Ends timer\r\n",
        "delta_t = end - start\r\n",
        "print('Training took', delta_t, 'seconds')"
      ],
      "execution_count": 15,
      "outputs": [
        {
          "output_type": "stream",
          "text": [
            "[0, 0.35499265789985657, 0.18342262506484985, '00:00']\n",
            "[0, 0.35499265789985657, 0.18342262506484985, '00:00']\n",
            "[1, 0.11452358961105347, 0.022296765819191933, '00:00']\n",
            "[1, 0.11452358961105347, 0.022296765819191933, '00:00']\n",
            "[2, 0.03303249180316925, 0.0053518968634307384, '00:00']\n",
            "[2, 0.03303249180316925, 0.0053518968634307384, '00:00']\n",
            "[3, 0.013099930249154568, 0.002651549642905593, '00:00']\n",
            "[3, 0.013099930249154568, 0.002651549642905593, '00:00']\n",
            "[4, 0.004703981336206198, 0.002176332985982299, '00:00']\n",
            "[4, 0.004703981336206198, 0.002176332985982299, '00:00']\n",
            "[5, 0.0026211626827716827, 0.001462200772948563, '00:00']\n",
            "[5, 0.0026211626827716827, 0.001462200772948563, '00:00']\n",
            "[6, 0.002843213500455022, 0.0033280260395258665, '00:00']\n",
            "[6, 0.002843213500455022, 0.0033280260395258665, '00:00']\n",
            "[7, 0.001987919444218278, 0.0017372380243614316, '00:00']\n",
            "[7, 0.001987919444218278, 0.0017372380243614316, '00:00']\n",
            "[8, 0.0017524491995573044, 0.0018450915813446045, '00:00']\n",
            "[8, 0.0017524491995573044, 0.0018450915813446045, '00:00']\n",
            "[9, 0.002703269710764289, 0.0030760634690523148, '00:00']\n",
            "[9, 0.002703269710764289, 0.0030760634690523148, '00:00']\n",
            "[10, 0.0016445049550384283, 0.0006542857736349106, '00:00']\n",
            "[10, 0.0016445049550384283, 0.0006542857736349106, '00:00']\n",
            "[11, 0.0014738488243892789, 0.0013369969092309475, '00:00']\n",
            "[11, 0.0014738488243892789, 0.0013369969092309475, '00:00']\n",
            "[12, 0.0014198311837390065, 0.0021072758827358484, '00:00']\n",
            "[12, 0.0014198311837390065, 0.0021072758827358484, '00:00']\n",
            "[13, 0.0016518431948497891, 0.0039217048324644566, '00:00']\n",
            "[13, 0.0016518431948497891, 0.0039217048324644566, '00:00']\n",
            "[14, 0.001405737828463316, 0.0010307501070201397, '00:00']\n",
            "[14, 0.001405737828463316, 0.0010307501070201397, '00:00']\n",
            "[15, 0.0013781265588477254, 0.00279526156373322, '00:00']\n",
            "[15, 0.0013781265588477254, 0.00279526156373322, '00:00']\n",
            "[16, 0.0021693899761885405, 0.0009552451665513217, '00:00']\n",
            "[16, 0.0021693899761885405, 0.0009552451665513217, '00:00']\n",
            "[17, 0.0010074200108647346, 0.0009232404991053045, '00:00']\n",
            "[17, 0.0010074200108647346, 0.0009232404991053045, '00:00']\n",
            "[18, 0.0011312721762806177, 0.0010570056037977338, '00:00']\n",
            "[18, 0.0011312721762806177, 0.0010570056037977338, '00:00']\n",
            "[19, 0.0015416552778333426, 0.0012609015684574842, '00:00']\n",
            "[19, 0.0015416552778333426, 0.0012609015684574842, '00:00']\n",
            "[20, 0.001255782786756754, 0.003035114612430334, '00:00']\n",
            "[20, 0.001255782786756754, 0.003035114612430334, '00:00']\n",
            "[21, 0.0011354468297213316, 0.000635514035820961, '00:00']\n",
            "[21, 0.0011354468297213316, 0.000635514035820961, '00:00']\n",
            "[22, 0.0010344494367018342, 0.0008923847926780581, '00:00']\n",
            "[22, 0.0010344494367018342, 0.0008923847926780581, '00:00']\n",
            "[23, 0.0012029900681227446, 0.001909275772050023, '00:00']\n",
            "[23, 0.0012029900681227446, 0.001909275772050023, '00:00']\n",
            "[24, 0.001142660970799625, 0.001011342741549015, '00:00']\n",
            "[24, 0.001142660970799625, 0.001011342741549015, '00:00']\n",
            "[25, 0.0009986860677599907, 0.0012043343158438802, '00:00']\n",
            "[25, 0.0009986860677599907, 0.0012043343158438802, '00:00']\n",
            "[26, 0.0012060217559337616, 0.0012192570138722658, '00:00']\n",
            "[26, 0.0012060217559337616, 0.0012192570138722658, '00:00']\n",
            "[27, 0.0009944746270775795, 0.004552355967462063, '00:00']\n",
            "[27, 0.0009944746270775795, 0.004552355967462063, '00:00']\n",
            "[28, 0.001371935592032969, 0.0022020533215254545, '00:00']\n",
            "[28, 0.001371935592032969, 0.0022020533215254545, '00:00']\n",
            "[29, 0.00097805040422827, 0.0013943600933998823, '00:00']\n",
            "[29, 0.00097805040422827, 0.0013943600933998823, '00:00']\n",
            "[30, 0.0007186607690528035, 0.00061899604042992, '00:00']\n",
            "[30, 0.0007186607690528035, 0.00061899604042992, '00:00']\n",
            "[31, 0.0015456813853234053, 0.00389130599796772, '00:00']\n",
            "[31, 0.0015456813853234053, 0.00389130599796772, '00:00']\n",
            "[32, 0.0008925799047574401, 0.00018956614076159894, '00:00']\n",
            "[32, 0.0008925799047574401, 0.00018956614076159894, '00:00']\n",
            "[33, 0.0009071581880562007, 0.00030242654611356556, '00:00']\n",
            "[33, 0.0009071581880562007, 0.00030242654611356556, '00:00']\n",
            "[34, 0.0013478598557412624, 0.0005119987763464451, '00:00']\n",
            "[34, 0.0013478598557412624, 0.0005119987763464451, '00:00']\n",
            "[35, 0.0007546190172433853, 0.0006857354310341179, '00:00']\n",
            "[35, 0.0007546190172433853, 0.0006857354310341179, '00:00']\n",
            "[36, 0.0007683697622269392, 0.0010976045159623027, '00:00']\n",
            "[36, 0.0007683697622269392, 0.0010976045159623027, '00:00']\n",
            "[37, 0.0012072880053892732, 0.001138856285251677, '00:00']\n",
            "[37, 0.0012072880053892732, 0.001138856285251677, '00:00']\n",
            "[38, 0.0007419234025292099, 0.0002713943540584296, '00:00']\n",
            "[38, 0.0007419234025292099, 0.0002713943540584296, '00:00']\n",
            "[39, 0.0006243340321816504, 0.000526021234691143, '00:00']\n",
            "[39, 0.0006243340321816504, 0.000526021234691143, '00:00']\n",
            "[40, 0.0011026457650586963, 0.0005851790774613619, '00:00']\n",
            "[40, 0.0011026457650586963, 0.0005851790774613619, '00:00']\n",
            "[41, 0.0009539526072330773, 0.002080774400383234, '00:00']\n",
            "[41, 0.0009539526072330773, 0.002080774400383234, '00:00']\n",
            "[42, 0.0007111995364539325, 0.00032788110547699034, '00:00']\n",
            "[42, 0.0007111995364539325, 0.00032788110547699034, '00:00']\n",
            "[43, 0.0009374836226925254, 0.0008283269125968218, '00:00']\n",
            "[43, 0.0009374836226925254, 0.0008283269125968218, '00:00']\n",
            "[44, 0.000771949824411422, 0.00020007428247481585, '00:00']\n",
            "[44, 0.000771949824411422, 0.00020007428247481585, '00:00']\n",
            "[45, 0.0006482508033514023, 0.00047191232442855835, '00:00']\n",
            "[45, 0.0006482508033514023, 0.00047191232442855835, '00:00']\n",
            "[46, 0.0008710253750905395, 0.0009616856696084142, '00:00']\n",
            "[46, 0.0008710253750905395, 0.0009616856696084142, '00:00']\n",
            "[47, 0.0009732941980473697, 0.0007566027925349772, '00:00']\n",
            "[47, 0.0009732941980473697, 0.0007566027925349772, '00:00']\n",
            "[48, 0.0007201104890555143, 0.0011453961487859488, '00:00']\n",
            "[48, 0.0007201104890555143, 0.0011453961487859488, '00:00']\n",
            "[49, 0.000856702565215528, 0.0009219524799846113, '00:00']\n",
            "[49, 0.000856702565215528, 0.0009219524799846113, '00:00']\n",
            "[50, 0.00046909632510505617, 0.0005632959655486047, '00:00']\n",
            "[50, 0.00046909632510505617, 0.0005632959655486047, '00:00']\n",
            "[51, 0.0008480018586851656, 0.0004187256272416562, '00:00']\n",
            "[51, 0.0008480018586851656, 0.0004187256272416562, '00:00']\n",
            "[52, 0.0006015775143168867, 0.0007118356297723949, '00:00']\n",
            "[52, 0.0006015775143168867, 0.0007118356297723949, '00:00']\n",
            "[53, 0.0007127314456738532, 0.00127765245269984, '00:00']\n",
            "[53, 0.0007127314456738532, 0.00127765245269984, '00:00']\n",
            "[54, 0.0007688835612498224, 0.0004628408933058381, '00:00']\n",
            "[54, 0.0007688835612498224, 0.0004628408933058381, '00:00']\n",
            "[55, 0.00046387084876187146, 0.00022454667487181723, '00:00']\n",
            "[55, 0.00046387084876187146, 0.00022454667487181723, '00:00']\n",
            "[56, 0.0008181306184269488, 0.0003197587502654642, '00:00']\n",
            "[56, 0.0008181306184269488, 0.0003197587502654642, '00:00']\n",
            "[57, 0.0006311378674581647, 0.0008518616086803377, '00:00']\n",
            "[57, 0.0006311378674581647, 0.0008518616086803377, '00:00']\n",
            "[58, 0.0006220266222953796, 0.00026406010147184134, '00:00']\n",
            "[58, 0.0006220266222953796, 0.00026406010147184134, '00:00']\n",
            "[59, 0.0006690001464448869, 0.00034174355096183717, '00:00']\n",
            "[59, 0.0006690001464448869, 0.00034174355096183717, '00:00']\n",
            "[60, 0.0008330566342920065, 0.0005333811859600246, '00:00']\n",
            "[60, 0.0008330566342920065, 0.0005333811859600246, '00:00']\n",
            "[61, 0.0006086888606660068, 0.000894096796400845, '00:00']\n",
            "[61, 0.0006086888606660068, 0.000894096796400845, '00:00']\n",
            "[62, 0.0011980445124208927, 0.0011954926885664463, '00:00']\n",
            "[62, 0.0011980445124208927, 0.0011954926885664463, '00:00']\n",
            "[63, 0.0005563620361499488, 0.00018512894166633487, '00:00']\n",
            "[63, 0.0005563620361499488, 0.00018512894166633487, '00:00']\n",
            "[64, 0.0006858220440335572, 0.0005042694974690676, '00:00']\n",
            "[64, 0.0006858220440335572, 0.0005042694974690676, '00:00']\n",
            "[65, 0.000642589177004993, 0.0006495302659459412, '00:00']\n",
            "[65, 0.000642589177004993, 0.0006495302659459412, '00:00']\n",
            "[66, 0.0010243551805615425, 0.0013599817175418139, '00:00']\n",
            "[66, 0.0010243551805615425, 0.0013599817175418139, '00:00']\n",
            "[67, 0.0007093513268046081, 0.00035098494845442474, '00:00']\n",
            "[67, 0.0007093513268046081, 0.00035098494845442474, '00:00']\n",
            "[68, 0.0004437549505382776, 0.000555823789909482, '00:00']\n",
            "[68, 0.0004437549505382776, 0.000555823789909482, '00:00']\n",
            "[69, 0.0006339376559481025, 0.0006886282353661954, '00:00']\n",
            "[69, 0.0006339376559481025, 0.0006886282353661954, '00:00']\n",
            "[70, 0.000586707959882915, 0.0005303958314470947, '00:00']\n",
            "[70, 0.000586707959882915, 0.0005303958314470947, '00:00']\n",
            "[71, 0.0006405290914699435, 0.0009751070756465197, '00:00']\n",
            "[71, 0.0006405290914699435, 0.0009751070756465197, '00:00']\n",
            "[72, 0.0005476945661939681, 0.00029944945708848536, '00:00']\n",
            "[72, 0.0005476945661939681, 0.00029944945708848536, '00:00']\n",
            "[73, 0.0006198899354785681, 0.000624941720161587, '00:00']\n",
            "[73, 0.0006198899354785681, 0.000624941720161587, '00:00']\n",
            "[74, 0.00046911128447391093, 0.00028157851193100214, '00:00']\n",
            "[74, 0.00046911128447391093, 0.00028157851193100214, '00:00']\n",
            "[75, 0.0005252675036899745, 0.0005432962207123637, '00:00']\n",
            "[75, 0.0005252675036899745, 0.0005432962207123637, '00:00']\n",
            "[76, 0.000688232365064323, 0.0005289012333378196, '00:00']\n",
            "[76, 0.000688232365064323, 0.0005289012333378196, '00:00']\n",
            "[77, 0.00044050649739801884, 0.00024286629923153669, '00:00']\n",
            "[77, 0.00044050649739801884, 0.00024286629923153669, '00:00']\n",
            "[78, 0.0007572222384624183, 0.0007203136919997633, '00:00']\n",
            "[78, 0.0007572222384624183, 0.0007203136919997633, '00:00']\n",
            "[79, 0.000559542269911617, 0.0006370046176016331, '00:00']\n",
            "[79, 0.000559542269911617, 0.0006370046176016331, '00:00']\n",
            "[80, 0.0005758701590821147, 0.0019449767423793674, '00:00']\n",
            "[80, 0.0005758701590821147, 0.0019449767423793674, '00:00']\n",
            "[81, 0.0006449230713769794, 0.0003402269503567368, '00:00']\n",
            "[81, 0.0006449230713769794, 0.0003402269503567368, '00:00']\n",
            "[82, 0.0006449474021792412, 0.0007649928447790444, '00:00']\n",
            "[82, 0.0006449474021792412, 0.0007649928447790444, '00:00']\n",
            "[83, 0.000664103776216507, 0.000978419091552496, '00:00']\n",
            "[83, 0.000664103776216507, 0.000978419091552496, '00:00']\n",
            "[84, 0.0005326803657226264, 0.0005005003185942769, '00:00']\n",
            "[84, 0.0005326803657226264, 0.0005005003185942769, '00:00']\n",
            "[85, 0.00045235216384753585, 0.00039297380135394633, '00:00']\n",
            "[85, 0.00045235216384753585, 0.00039297380135394633, '00:00']\n",
            "[86, 0.0006147866952233016, 0.0006304183043539524, '00:00']\n",
            "[86, 0.0006147866952233016, 0.0006304183043539524, '00:00']\n",
            "[87, 0.0004964913823641837, 0.00032775793806649745, '00:00']\n",
            "[87, 0.0004964913823641837, 0.00032775793806649745, '00:00']\n",
            "[88, 0.00045586013584397733, 0.00040965928928926587, '00:00']\n",
            "[88, 0.00045586013584397733, 0.00040965928928926587, '00:00']\n",
            "[89, 0.0005023981211706996, 0.0005487906746566296, '00:00']\n",
            "[89, 0.0005023981211706996, 0.0005487906746566296, '00:00']\n",
            "[90, 0.00039347936399281025, 0.00022966567485127598, '00:00']\n",
            "[90, 0.00039347936399281025, 0.00022966567485127598, '00:00']\n",
            "[91, 0.0007308389758691192, 0.000639870238956064, '00:00']\n",
            "[91, 0.0007308389758691192, 0.000639870238956064, '00:00']\n",
            "[92, 0.000439304334577173, 0.0002003920526476577, '00:00']\n",
            "[92, 0.000439304334577173, 0.0002003920526476577, '00:00']\n",
            "[93, 0.00047532760072499514, 0.0007249435293488204, '00:00']\n",
            "[93, 0.00047532760072499514, 0.0007249435293488204, '00:00']\n",
            "[94, 0.0004974911571480334, 0.0004952052258886397, '00:00']\n",
            "[94, 0.0004974911571480334, 0.0004952052258886397, '00:00']\n",
            "[95, 0.0003979084431193769, 0.0005995516548864543, '00:00']\n",
            "[95, 0.0003979084431193769, 0.0005995516548864543, '00:00']\n",
            "[96, 0.0005008001462556422, 0.000613275624345988, '00:00']\n",
            "[96, 0.0005008001462556422, 0.000613275624345988, '00:00']\n",
            "[97, 0.0005197602440603077, 0.0004370794340502471, '00:00']\n",
            "[97, 0.0005197602440603077, 0.0004370794340502471, '00:00']\n",
            "[98, 0.0006413328228518367, 0.0010824837954714894, '00:00']\n",
            "[98, 0.0006413328228518367, 0.0010824837954714894, '00:00']\n",
            "[99, 0.0005912458873353899, 0.000380279088858515, '00:00']\n",
            "[99, 0.0005912458873353899, 0.000380279088858515, '00:00']\n",
            "Training took 80.83915627799979 seconds\n"
          ],
          "name": "stdout"
        }
      ]
    },
    {
      "cell_type": "code",
      "metadata": {
        "colab": {
          "base_uri": "https://localhost:8080/",
          "height": 282
        },
        "id": "H4kiXLFc3di1",
        "outputId": "1bf8fbac-a22b-4ac6-bb8f-7e3583a3a5ac"
      },
      "source": [
        "#@title loss vs epochs\r\n",
        "recorder.plot_loss()\r\n",
        "\r\n",
        "print(\"Validation MSE\", learn.validate())"
      ],
      "execution_count": 16,
      "outputs": [
        {
          "output_type": "stream",
          "text": [
            "Validation MSE [0.000380279088858515]\n"
          ],
          "name": "stdout"
        },
        {
          "output_type": "display_data",
          "data": {
            "image/png": "[encoded data removed]",
            "text/plain": [
              "<Figure size 432x288 with 1 Axes>"
            ]
          },
          "metadata": {
            "tags": [],
            "needs_background": "light"
          }
        }
      ]
    },
    {
      "cell_type": "code",
      "metadata": {
        "colab": {
          "base_uri": "https://localhost:8080/",
          "height": 1000
        },
        "id": "8u5F0YwF5sUI",
        "cellView": "form",
        "outputId": "eb18ec0e-749d-49ca-e05f-98c04a912b25"
      },
      "source": [
        "#@title Histogram comparision between test set and predictions(STANDARD)\n",
        "\n",
        "def histogram_comparision(x_test,title):\n",
        "\n",
        "  colors = ['orange', 'c']\n",
        "  markers = ['*', 's']\n",
        "  model.to('cpu')\n",
        "\n",
        "  save = True # Option to save figure\n",
        "\n",
        "  data = torch.tensor(x_test, dtype=torch.float)\n",
        "\n",
        "  pred = model(data)\n",
        "  pred = pred.detach().numpy()\n",
        "  data = data.detach().numpy()\n",
        "\n",
        "  alph = 0.8\n",
        "  n_bins = 200\n",
        "  for kk in np.arange(4):\n",
        "      plt.figure()\n",
        "      n_hist_data, bin_edges, _ = plt.hist(data[:, kk], color=colors[1], label='Input', alpha=1, bins=n_bins)\n",
        "      n_hist_pred, _, _ = plt.hist(pred[:, kk], color=colors[0], label='Output', alpha=alph, bins=bin_edges)\n",
        "      plt.suptitle(str(kk))\n",
        "      plt.xlabel(str(kk))\n",
        "      plt.ylabel('Number of events')\n",
        "      plt.legend()\n",
        "      if save:\n",
        "          plt.savefig(os.path.join(save_dir,\"Hist_\"+str(kk)+title+'.png'))\n",
        "      \n",
        "\n",
        "\n",
        "x_test = X_test_scaled_standar\n",
        "title = \"Standar_normalization\"\n",
        "histogram_comparision(x_test,title)"
      ],
      "execution_count": 17,
      "outputs": [
        {
          "output_type": "display_data",
          "data": {
            "image/png": "[encoded data removed]",
            "text/plain": [
              "<Figure size 432x288 with 1 Axes>"
            ]
          },
          "metadata": {
            "tags": [],
            "needs_background": "light"
          }
        },
        {
          "output_type": "display_data",
          "data": {
            "image/png": "[encoded data removed]",
            "text/plain": [
              "<Figure size 432x288 with 1 Axes>"
            ]
          },
          "metadata": {
            "tags": [],
            "needs_background": "light"
          }
        },
        {
          "output_type": "display_data",
          "data": {
            "image/png": "[encoded data removed]",
            "text/plain": [
              "<Figure size 432x288 with 1 Axes>"
            ]
          },
          "metadata": {
            "tags": [],
            "needs_background": "light"
          }
        },
        {
          "output_type": "display_data",
          "data": {
            "image/png": "[encoded data removed]",
            "text/plain": [
              "<Figure size 432x288 with 1 Axes>"
            ]
          },
          "metadata": {
            "tags": [],
            "needs_background": "light"
          }
        }
      ]
    },
    {
      "cell_type": "code",
      "metadata": {
        "id": "6SjmL0vM5_I1",
        "cellView": "form"
      },
      "source": [
        "#@title Function to calculate MSE of each element in the 4D mementum\r\n",
        "def calculate_mse_column(data, pred, title): \r\n",
        "  \r\n",
        "  errors = np.zeros(data.shape[1])\r\n",
        "  for i in range(data.shape[1]):\r\n",
        "    errors[i] = mean_squared_error(data[:,i], pred[:,i])\r\n",
        "\r\n",
        "  fig = plt.figure()\r\n",
        "\r\n",
        "  x = [str(i) for i in range(data.shape[1])]\r\n",
        "  plt.bar(x,errors)\r\n",
        "  plt.xlabel(\"Column\")\r\n",
        "  plt.ylabel('MSE')\r\n",
        "  plt.title(title)\r\n",
        "  fig.show()\r\n",
        "  fig.savefig(os.path.join(save_dir, title +\".png\"))\r\n"
      ],
      "execution_count": 18,
      "outputs": []
    },
    {
      "cell_type": "code",
      "metadata": {
        "cellView": "form",
        "id": "KmYKkh2LjWVT"
      },
      "source": [
        "#@title Function to calculate PSNR of each element in the 4D mementum\r\n",
        "import math \r\n",
        "def calculate_psnr_column(data, pred, title): \r\n",
        "  \r\n",
        "  psnr = np.zeros(data.shape[1])\r\n",
        "  for i in range(data.shape[1]):\r\n",
        "    range_value = data[:,i].max() - data[:,i].min()\r\n",
        "    mse = mean_squared_error(data[:,i], pred[:,i])\r\n",
        "\r\n",
        "    psnr[i] = 20 * math.log10(range_value / math.sqrt(mse)) \r\n",
        "\r\n",
        "  fig = plt.figure()\r\n",
        "\r\n",
        "  x = [str(i) for i in range(data.shape[1])]\r\n",
        "  plt.bar(x,psnr)\r\n",
        "  plt.xlabel(\"Column\")\r\n",
        "  plt.ylabel('PSNR')\r\n",
        "  plt.title(title)\r\n",
        "  fig.show()\r\n",
        "  fig.savefig(os.path.join(save_dir, title +\".png\"))\r\n"
      ],
      "execution_count": 19,
      "outputs": []
    },
    {
      "cell_type": "code",
      "metadata": {
        "colab": {
          "base_uri": "https://localhost:8080/",
          "height": 295
        },
        "id": "TwMsgT3MAapD",
        "cellView": "form",
        "outputId": "fe95b0bc-506d-4fc5-96d3-3dd140e2e616"
      },
      "source": [
        "#@title  MSE by column with standard normalized test\n",
        "\n",
        "data = torch.tensor(X_test_scaled_standar, dtype=torch.float)\n",
        "\n",
        "pred = model(data)\n",
        "pred = pred.detach().numpy()\n",
        "data = data.detach().numpy()\n",
        "\n",
        "calculate_mse_column(data, pred, 'error_by_column_standard_normalization')"
      ],
      "execution_count": 20,
      "outputs": [
        {
          "output_type": "display_data",
          "data": {
            "image/png": "[encoded data removed]",
            "text/plain": [
              "<Figure size 432x288 with 1 Axes>"
            ]
          },
          "metadata": {
            "tags": [],
            "needs_background": "light"
          }
        }
      ]
    },
    {
      "cell_type": "code",
      "metadata": {
        "colab": {
          "base_uri": "https://localhost:8080/",
          "height": 295
        },
        "cellView": "form",
        "id": "TZSUd_lMlZHa",
        "outputId": "cad446b1-ad1b-4654-b4f4-c2ca9c8a67e1"
      },
      "source": [
        "#@title  PSNR by column with standar normalized test\n",
        "\n",
        "data = torch.tensor(X_test_scaled_standar, dtype=torch.float)\n",
        "\n",
        "pred = model(data)\n",
        "pred = pred.detach().numpy()\n",
        "data = data.detach().numpy()\n",
        "\n",
        "calculate_psnr_column(data, pred, 'psnr_by_column_standard_normalization')"
      ],
      "execution_count": 21,
      "outputs": [
        {
          "output_type": "display_data",
          "data": {
            "image/png": "[encoded data removed]",
            "text/plain": [
              "<Figure size 432x288 with 1 Axes>"
            ]
          },
          "metadata": {
            "tags": [],
            "needs_background": "light"
          }
        }
      ]
    },
    {
      "cell_type": "markdown",
      "metadata": {
        "id": "rXlIkqDyZ8z4"
      },
      "source": [
        "## Training with the train data using MinMax normalization"
      ]
    },
    {
      "cell_type": "code",
      "metadata": {
        "colab": {
          "base_uri": "https://localhost:8080/"
        },
        "cellView": "form",
        "id": "qi2liSUlZ8GU",
        "outputId": "b8ed67fc-e1cc-4c76-f251-ba0720d65a0f"
      },
      "source": [
        "#@title Model Used\r\n",
        "model = AE_3D_200_LeakyReLU()\r\n",
        "model.to('cpu')"
      ],
      "execution_count": 22,
      "outputs": [
        {
          "output_type": "execute_result",
          "data": {
            "text/plain": [
              "AE_3D_200_LeakyReLU(\n",
              "  (en1): Linear(in_features=4, out_features=200, bias=True)\n",
              "  (en2): Linear(in_features=200, out_features=200, bias=True)\n",
              "  (en3): Linear(in_features=200, out_features=20, bias=True)\n",
              "  (en4): Linear(in_features=20, out_features=3, bias=True)\n",
              "  (de1): Linear(in_features=3, out_features=20, bias=True)\n",
              "  (de2): Linear(in_features=20, out_features=200, bias=True)\n",
              "  (de3): Linear(in_features=200, out_features=200, bias=True)\n",
              "  (de4): Linear(in_features=200, out_features=4, bias=True)\n",
              "  (leaky_realu): LeakyReLU(negative_slope=0.1)\n",
              ")"
            ]
          },
          "metadata": {
            "tags": []
          },
          "execution_count": 22
        }
      ]
    },
    {
      "cell_type": "code",
      "metadata": {
        "id": "t1Z-AAkTaK21"
      },
      "source": [
        "loss_func = nn.MSELoss()\r\n",
        "wd = 1e-6\r\n",
        "recorder = learner.Recorder()\r\n",
        "learn = learner.Learner(dls_minmax, model=model, wd=wd, loss_func=loss_func, cbs=recorder)"
      ],
      "execution_count": 23,
      "outputs": []
    },
    {
      "cell_type": "code",
      "metadata": {
        "colab": {
          "base_uri": "https://localhost:8080/",
          "height": 317
        },
        "cellView": "form",
        "id": "mIJIAZ-uadjs",
        "outputId": "31589123-bb12-4e36-f7ad-70894deb2116"
      },
      "source": [
        "#@title finding learning rate optimum\r\n",
        "lr_min, lr_steep = learn.lr_find()\r\n",
        "\r\n",
        "print('Learning rate with the minimum loss:', lr_min)\r\n",
        "print('Learning rate with the steepest gradient:', lr_steep)"
      ],
      "execution_count": 24,
      "outputs": [
        {
          "output_type": "stream",
          "text": [
            "Learning rate with the minimum loss: 0.005754399299621582\n",
            "Learning rate with the steepest gradient: 0.0010000000474974513\n"
          ],
          "name": "stdout"
        },
        {
          "output_type": "display_data",
          "data": {
            "image/png": "[encoded data removed]",
            "text/plain": [
              "<Figure size 432x288 with 1 Axes>"
            ]
          },
          "metadata": {
            "tags": [],
            "needs_background": "light"
          }
        }
      ]
    },
    {
      "cell_type": "code",
      "metadata": {
        "colab": {
          "base_uri": "https://localhost:8080/"
        },
        "cellView": "form",
        "id": "imDeNq0eamoQ",
        "outputId": "d38c9900-a240-42f6-9544-4e4107897450"
      },
      "source": [
        "#@title Train\r\n",
        "start = time.perf_counter() # Starts timer\r\n",
        "learn.fit(n_epoch=100, lr=lr_min)\r\n",
        "end = time.perf_counter() # Ends timer\r\n",
        "delta_t = end - start\r\n",
        "print('Training took', delta_t, 'seconds')"
      ],
      "execution_count": 25,
      "outputs": [
        {
          "output_type": "stream",
          "text": [
            "[0, 0.016323482617735863, 0.007069665007293224, '00:00']\n",
            "[0, 0.016323482617735863, 0.007069665007293224, '00:00']\n",
            "[1, 0.00828296598047018, 0.005946172401309013, '00:00']\n",
            "[1, 0.00828296598047018, 0.005946172401309013, '00:00']\n",
            "[2, 0.006573913618922234, 0.005829688627272844, '00:00']\n",
            "[2, 0.006573913618922234, 0.005829688627272844, '00:00']\n",
            "[3, 0.0060493522323668, 0.005835482385009527, '00:00']\n",
            "[3, 0.0060493522323668, 0.005835482385009527, '00:00']\n",
            "[4, 0.005490574520081282, 0.0048639471642673016, '00:00']\n",
            "[4, 0.005490574520081282, 0.0048639471642673016, '00:00']\n",
            "[5, 0.0035388099495321512, 0.001060543698258698, '00:00']\n",
            "[5, 0.0035388099495321512, 0.001060543698258698, '00:00']\n",
            "[6, 0.001153023331426084, 0.00013672554632648826, '00:00']\n",
            "[6, 0.001153023331426084, 0.00013672554632648826, '00:00']\n",
            "[7, 0.0003747215087059885, 0.00018312709289602935, '00:00']\n",
            "[7, 0.0003747215087059885, 0.00018312709289602935, '00:00']\n",
            "[8, 0.0001897753681987524, 6.869290518807247e-05, '00:00']\n",
            "[8, 0.0001897753681987524, 6.869290518807247e-05, '00:00']\n",
            "[9, 0.0001709486241452396, 0.00015053882088977844, '00:00']\n",
            "[9, 0.0001709486241452396, 0.00015053882088977844, '00:00']\n",
            "[10, 0.0001345789059996605, 5.6271117500727996e-05, '00:00']\n",
            "[10, 0.0001345789059996605, 5.6271117500727996e-05, '00:00']\n",
            "[11, 0.0001127025461755693, 0.00010199183452641591, '00:00']\n",
            "[11, 0.0001127025461755693, 0.00010199183452641591, '00:00']\n",
            "[12, 0.00010155003110412508, 0.0005718529573641717, '00:00']\n",
            "[12, 0.00010155003110412508, 0.0005718529573641717, '00:00']\n",
            "[13, 0.00010048682452179492, 0.00022241850092541426, '00:00']\n",
            "[13, 0.00010048682452179492, 0.00022241850092541426, '00:00']\n",
            "[14, 0.00011709207319654524, 6.424624007195234e-05, '00:00']\n",
            "[14, 0.00011709207319654524, 6.424624007195234e-05, '00:00']\n",
            "[15, 0.0001042164076352492, 7.031883433228359e-05, '00:00']\n",
            "[15, 0.0001042164076352492, 7.031883433228359e-05, '00:00']\n",
            "[16, 0.00011103056749561802, 0.00010613221093080938, '00:00']\n",
            "[16, 0.00011103056749561802, 0.00010613221093080938, '00:00']\n",
            "[17, 9.633986337576061e-05, 4.868563337367959e-05, '00:00']\n",
            "[17, 9.633986337576061e-05, 4.868563337367959e-05, '00:00']\n",
            "[18, 0.00010981772356899455, 6.267301796469837e-05, '00:00']\n",
            "[18, 0.00010981772356899455, 6.267301796469837e-05, '00:00']\n",
            "[19, 0.00011772484140237793, 0.0001311345986323431, '00:00']\n",
            "[19, 0.00011772484140237793, 0.0001311345986323431, '00:00']\n",
            "[20, 9.060998854693025e-05, 0.00020514863717835397, '00:00']\n",
            "[20, 9.060998854693025e-05, 0.00020514863717835397, '00:00']\n",
            "[21, 8.091019844869152e-05, 0.00012468091154005378, '00:00']\n",
            "[21, 8.091019844869152e-05, 0.00012468091154005378, '00:00']\n",
            "[22, 7.67493766034022e-05, 4.004701622761786e-05, '00:00']\n",
            "[22, 7.67493766034022e-05, 4.004701622761786e-05, '00:00']\n",
            "[23, 6.348743045236915e-05, 1.6774465620983392e-05, '00:00']\n",
            "[23, 6.348743045236915e-05, 1.6774465620983392e-05, '00:00']\n",
            "[24, 8.58486455399543e-05, 0.0002523770381230861, '00:00']\n",
            "[24, 8.58486455399543e-05, 0.0002523770381230861, '00:00']\n",
            "[25, 5.615012923954055e-05, 0.00015194548177532852, '00:00']\n",
            "[25, 5.615012923954055e-05, 0.00015194548177532852, '00:00']\n",
            "[26, 6.882074376335368e-05, 0.00014345008821692318, '00:00']\n",
            "[26, 6.882074376335368e-05, 0.00014345008821692318, '00:00']\n",
            "[27, 0.00011394201283110306, 0.00024706762633286417, '00:00']\n",
            "[27, 0.00011394201283110306, 0.00024706762633286417, '00:00']\n",
            "[28, 6.512244726764038e-05, 4.213543070363812e-05, '00:00']\n",
            "[28, 6.512244726764038e-05, 4.213543070363812e-05, '00:00']\n",
            "[29, 6.208338891156018e-05, 3.134022335871123e-05, '00:00']\n",
            "[29, 6.208338891156018e-05, 3.134022335871123e-05, '00:00']\n",
            "[30, 9.914118709275499e-05, 0.00013442712952382863, '00:00']\n",
            "[30, 9.914118709275499e-05, 0.00013442712952382863, '00:00']\n",
            "[31, 5.381055234465748e-05, 2.071271046588663e-05, '00:00']\n",
            "[31, 5.381055234465748e-05, 2.071271046588663e-05, '00:00']\n",
            "[32, 7.870281842770055e-05, 0.00017921101243700832, '00:00']\n",
            "[32, 7.870281842770055e-05, 0.00017921101243700832, '00:00']\n",
            "[33, 5.484189387061633e-05, 2.3455282644135877e-05, '00:00']\n",
            "[33, 5.484189387061633e-05, 2.3455282644135877e-05, '00:00']\n",
            "[34, 5.306017192197032e-05, 3.624644159572199e-05, '00:00']\n",
            "[34, 5.306017192197032e-05, 3.624644159572199e-05, '00:00']\n",
            "[35, 5.2249299187678844e-05, 2.0136154489591718e-05, '00:00']\n",
            "[35, 5.2249299187678844e-05, 2.0136154489591718e-05, '00:00']\n",
            "[36, 5.981876529403962e-05, 4.927368354401551e-05, '00:00']\n",
            "[36, 5.981876529403962e-05, 4.927368354401551e-05, '00:00']\n",
            "[37, 4.474912566365674e-05, 0.00011347471445333213, '00:00']\n",
            "[37, 4.474912566365674e-05, 0.00011347471445333213, '00:00']\n",
            "[38, 5.561984653468244e-05, 5.6074452004395425e-05, '00:00']\n",
            "[38, 5.561984653468244e-05, 5.6074452004395425e-05, '00:00']\n",
            "[39, 6.603825022466481e-05, 3.381021087989211e-05, '00:00']\n",
            "[39, 6.603825022466481e-05, 3.381021087989211e-05, '00:00']\n",
            "[40, 4.371938484837301e-05, 1.622378476895392e-05, '00:00']\n",
            "[40, 4.371938484837301e-05, 1.622378476895392e-05, '00:00']\n",
            "[41, 3.684013427118771e-05, 1.2508164218161255e-05, '00:00']\n",
            "[41, 3.684013427118771e-05, 1.2508164218161255e-05, '00:00']\n",
            "[42, 4.637330130208284e-05, 2.3240645532496274e-05, '00:00']\n",
            "[42, 4.637330130208284e-05, 2.3240645532496274e-05, '00:00']\n",
            "[43, 4.3134506995556876e-05, 5.0255835958523676e-05, '00:00']\n",
            "[43, 4.3134506995556876e-05, 5.0255835958523676e-05, '00:00']\n",
            "[44, 4.519557114690542e-05, 9.311361645814031e-05, '00:00']\n",
            "[44, 4.519557114690542e-05, 9.311361645814031e-05, '00:00']\n",
            "[45, 3.9536767872050405e-05, 6.510146340588108e-05, '00:00']\n",
            "[45, 3.9536767872050405e-05, 6.510146340588108e-05, '00:00']\n",
            "[46, 4.2618194129318e-05, 6.04304441367276e-05, '00:00']\n",
            "[46, 4.2618194129318e-05, 6.04304441367276e-05, '00:00']\n",
            "[47, 3.9871145418146625e-05, 2.534826853661798e-05, '00:00']\n",
            "[47, 3.9871145418146625e-05, 2.534826853661798e-05, '00:00']\n",
            "[48, 3.8184767618076876e-05, 1.0190782631980255e-05, '00:00']\n",
            "[48, 3.8184767618076876e-05, 1.0190782631980255e-05, '00:00']\n",
            "[49, 4.689937850343995e-05, 2.4981072783702984e-05, '00:00']\n",
            "[49, 4.689937850343995e-05, 2.4981072783702984e-05, '00:00']\n",
            "[50, 3.6912602809024975e-05, 3.725548231159337e-05, '00:00']\n",
            "[50, 3.6912602809024975e-05, 3.725548231159337e-05, '00:00']\n",
            "[51, 4.1579762182664126e-05, 3.852606823784299e-05, '00:00']\n",
            "[51, 4.1579762182664126e-05, 3.852606823784299e-05, '00:00']\n",
            "[52, 3.448717325227335e-05, 4.9297785153612494e-05, '00:00']\n",
            "[52, 3.448717325227335e-05, 4.9297785153612494e-05, '00:00']\n",
            "[53, 3.679043584270403e-05, 7.5074544838571455e-06, '00:00']\n",
            "[53, 3.679043584270403e-05, 7.5074544838571455e-06, '00:00']\n",
            "[54, 3.545121944625862e-05, 2.6074429115396924e-05, '00:00']\n",
            "[54, 3.545121944625862e-05, 2.6074429115396924e-05, '00:00']\n",
            "[55, 3.4725828299997374e-05, 1.769712798704859e-05, '00:00']\n",
            "[55, 3.4725828299997374e-05, 1.769712798704859e-05, '00:00']\n",
            "[56, 4.1909563151421025e-05, 3.019631367351394e-05, '00:00']\n",
            "[56, 4.1909563151421025e-05, 3.019631367351394e-05, '00:00']\n",
            "[57, 3.291661778348498e-05, 2.009332092711702e-05, '00:00']\n",
            "[57, 3.291661778348498e-05, 2.009332092711702e-05, '00:00']\n",
            "[58, 3.7464160413946956e-05, 3.27552916132845e-05, '00:00']\n",
            "[58, 3.7464160413946956e-05, 3.27552916132845e-05, '00:00']\n",
            "[59, 3.374554944457486e-05, 2.6059260562760755e-05, '00:00']\n",
            "[59, 3.374554944457486e-05, 2.6059260562760755e-05, '00:00']\n",
            "[60, 5.403878094512038e-05, 4.87540200992953e-05, '00:00']\n",
            "[60, 5.403878094512038e-05, 4.87540200992953e-05, '00:00']\n",
            "[61, 2.8861812097602524e-05, 1.5008756236056797e-05, '00:00']\n",
            "[61, 2.8861812097602524e-05, 1.5008756236056797e-05, '00:00']\n",
            "[62, 2.8825446861446835e-05, 8.641018212074414e-05, '00:00']\n",
            "[62, 2.8825446861446835e-05, 8.641018212074414e-05, '00:00']\n",
            "[63, 3.7581434298772365e-05, 9.636140748625621e-05, '00:00']\n",
            "[63, 3.7581434298772365e-05, 9.636140748625621e-05, '00:00']\n",
            "[64, 3.7270285247359425e-05, 7.83106152084656e-05, '00:00']\n",
            "[64, 3.7270285247359425e-05, 7.83106152084656e-05, '00:00']\n",
            "[65, 3.713194018928334e-05, 1.5742607502033934e-05, '00:00']\n",
            "[65, 3.713194018928334e-05, 1.5742607502033934e-05, '00:00']\n",
            "[66, 2.711269371502567e-05, 2.3605873138876632e-05, '00:00']\n",
            "[66, 2.711269371502567e-05, 2.3605873138876632e-05, '00:00']\n",
            "[67, 3.169790579704568e-05, 1.7756008674041368e-05, '00:00']\n",
            "[67, 3.169790579704568e-05, 1.7756008674041368e-05, '00:00']\n",
            "[68, 3.706728602992371e-05, 2.1904033928876743e-05, '00:00']\n",
            "[68, 3.706728602992371e-05, 2.1904033928876743e-05, '00:00']\n",
            "[69, 3.402038419153541e-05, 1.3806657079840079e-05, '00:00']\n",
            "[69, 3.402038419153541e-05, 1.3806657079840079e-05, '00:00']\n",
            "[70, 3.5782089980784804e-05, 8.59830470290035e-06, '00:00']\n",
            "[70, 3.5782089980784804e-05, 8.59830470290035e-06, '00:00']\n",
            "[71, 3.451332668191753e-05, 1.3940596545580775e-05, '00:00']\n",
            "[71, 3.451332668191753e-05, 1.3940596545580775e-05, '00:00']\n",
            "[72, 4.465762685867958e-05, 6.612091965507716e-05, '00:00']\n",
            "[72, 4.465762685867958e-05, 6.612091965507716e-05, '00:00']\n",
            "[73, 3.11732292175293e-05, 1.8092532627633773e-05, '00:00']\n",
            "[73, 3.11732292175293e-05, 1.8092532627633773e-05, '00:00']\n",
            "[74, 3.193457087036222e-05, 1.0980925253534224e-05, '00:00']\n",
            "[74, 3.193457087036222e-05, 1.0980925253534224e-05, '00:00']\n",
            "[75, 2.8118111004005186e-05, 9.716839485918172e-06, '00:00']\n",
            "[75, 2.8118111004005186e-05, 9.716839485918172e-06, '00:00']\n",
            "[76, 3.809863483184017e-05, 2.182063144573476e-05, '00:00']\n",
            "[76, 3.809863483184017e-05, 2.182063144573476e-05, '00:00']\n",
            "[77, 2.8025942810927518e-05, 3.5371605918044224e-05, '00:00']\n",
            "[77, 2.8025942810927518e-05, 3.5371605918044224e-05, '00:00']\n",
            "[78, 3.878438292304054e-05, 8.654186240164563e-05, '00:00']\n",
            "[78, 3.878438292304054e-05, 8.654186240164563e-05, '00:00']\n",
            "[79, 3.0202179914340377e-05, 6.084757114876993e-05, '00:00']\n",
            "[79, 3.0202179914340377e-05, 6.084757114876993e-05, '00:00']\n",
            "[80, 2.8376811314956285e-05, 1.724628236843273e-05, '00:00']\n",
            "[80, 2.8376811314956285e-05, 1.724628236843273e-05, '00:00']\n",
            "[81, 2.9894044928369112e-05, 9.099584531213623e-06, '00:00']\n",
            "[81, 2.9894044928369112e-05, 9.099584531213623e-06, '00:00']\n",
            "[82, 3.1207844585878775e-05, 1.6531006622244604e-05, '00:00']\n",
            "[82, 3.1207844585878775e-05, 1.6531006622244604e-05, '00:00']\n",
            "[83, 3.504069900372997e-05, 1.7130430933320895e-05, '00:00']\n",
            "[83, 3.504069900372997e-05, 1.7130430933320895e-05, '00:00']\n",
            "[84, 2.9484248443623073e-05, 2.882380249502603e-05, '00:00']\n",
            "[84, 2.9484248443623073e-05, 2.882380249502603e-05, '00:00']\n",
            "[85, 2.0995787053834647e-05, 1.4036114407645073e-05, '00:00']\n",
            "[85, 2.0995787053834647e-05, 1.4036114407645073e-05, '00:00']\n",
            "[86, 2.6172876459895633e-05, 1.7285188732785173e-05, '00:00']\n",
            "[86, 2.6172876459895633e-05, 1.7285188732785173e-05, '00:00']\n",
            "[87, 3.1973006116459146e-05, 1.6017949747038074e-05, '00:00']\n",
            "[87, 3.1973006116459146e-05, 1.6017949747038074e-05, '00:00']\n",
            "[88, 2.1672160073649138e-05, 2.1966503481962718e-05, '00:00']\n",
            "[88, 2.1672160073649138e-05, 2.1966503481962718e-05, '00:00']\n",
            "[89, 3.6720350180985406e-05, 4.103494211449288e-05, '00:00']\n",
            "[89, 3.6720350180985406e-05, 4.103494211449288e-05, '00:00']\n",
            "[90, 2.496488014003262e-05, 9.058299838216044e-06, '00:00']\n",
            "[90, 2.496488014003262e-05, 9.058299838216044e-06, '00:00']\n",
            "[91, 3.057204594369978e-05, 2.7624260837910697e-05, '00:00']\n",
            "[91, 3.057204594369978e-05, 2.7624260837910697e-05, '00:00']\n",
            "[92, 2.6509122108109295e-05, 2.336627039767336e-05, '00:00']\n",
            "[92, 2.6509122108109295e-05, 2.336627039767336e-05, '00:00']\n",
            "[93, 4.354453631094657e-05, 0.00012885709293186665, '00:00']\n",
            "[93, 4.354453631094657e-05, 0.00012885709293186665, '00:00']\n",
            "[94, 2.493363899702672e-05, 1.3173030311008915e-05, '00:00']\n",
            "[94, 2.493363899702672e-05, 1.3173030311008915e-05, '00:00']\n",
            "[95, 1.9647759472718462e-05, 9.729440535011236e-06, '00:00']\n",
            "[95, 1.9647759472718462e-05, 9.729440535011236e-06, '00:00']\n",
            "[96, 3.8035759644117206e-05, 4.462367360247299e-05, '00:00']\n",
            "[96, 3.8035759644117206e-05, 4.462367360247299e-05, '00:00']\n",
            "[97, 2.8820315492339432e-05, 2.210657657997217e-05, '00:00']\n",
            "[97, 2.8820315492339432e-05, 2.210657657997217e-05, '00:00']\n",
            "[98, 2.5720475605339743e-05, 1.553484435135033e-05, '00:00']\n",
            "[98, 2.5720475605339743e-05, 1.553484435135033e-05, '00:00']\n",
            "[99, 2.5779705538298003e-05, 7.417145752697252e-06, '00:00']\n",
            "[99, 2.5779705538298003e-05, 7.417145752697252e-06, '00:00']\n",
            "Training took 82.25571892399967 seconds\n"
          ],
          "name": "stdout"
        }
      ]
    },
    {
      "cell_type": "code",
      "metadata": {
        "colab": {
          "base_uri": "https://localhost:8080/",
          "height": 282
        },
        "cellView": "form",
        "id": "T88jIZZmatyO",
        "outputId": "8bc17841-0a4b-4c90-9f61-d99d3f204dcd"
      },
      "source": [
        "#@title loss vs epochs\r\n",
        "recorder.plot_loss()\r\n",
        "\r\n",
        "print(\"Validation MSE\", learn.validate())"
      ],
      "execution_count": 26,
      "outputs": [
        {
          "output_type": "stream",
          "text": [
            "Validation MSE [7.417145752697252e-06]\n"
          ],
          "name": "stdout"
        },
        {
          "output_type": "display_data",
          "data": {
            "image/png": "[encoded data removed]",
            "text/plain": [
              "<Figure size 432x288 with 1 Axes>"
            ]
          },
          "metadata": {
            "tags": [],
            "needs_background": "light"
          }
        }
      ]
    },
    {
      "cell_type": "code",
      "metadata": {
        "colab": {
          "base_uri": "https://localhost:8080/",
          "height": 1000
        },
        "cellView": "form",
        "id": "uXFs6Z6FaxQF",
        "outputId": "8e7d3aea-751e-43a4-a5ce-7259b3bc885f"
      },
      "source": [
        "#@title Histogram comparision between test set and predictions(MinMax)\r\n",
        "\r\n",
        "x_test = X_test_scaled_min_max\r\n",
        "title = \"MinMax_normalization\"\r\n",
        "histogram_comparision(x_test,title)"
      ],
      "execution_count": 27,
      "outputs": [
        {
          "output_type": "display_data",
          "data": {
            "image/png": "[encoded data removed]",
            "text/plain": [
              "<Figure size 432x288 with 1 Axes>"
            ]
          },
          "metadata": {
            "tags": [],
            "needs_background": "light"
          }
        },
        {
          "output_type": "display_data",
          "data": {
            "image/png": "[encoded data removed]",
            "text/plain": [
              "<Figure size 432x288 with 1 Axes>"
            ]
          },
          "metadata": {
            "tags": [],
            "needs_background": "light"
          }
        },
        {
          "output_type": "display_data",
          "data": {
            "image/png": "[encoded data removed]",
            "text/plain": [
              "<Figure size 432x288 with 1 Axes>"
            ]
          },
          "metadata": {
            "tags": [],
            "needs_background": "light"
          }
        },
        {
          "output_type": "display_data",
          "data": {
            "image/png": "[encoded data removed]",
            "text/plain": [
              "<Figure size 432x288 with 1 Axes>"
            ]
          },
          "metadata": {
            "tags": [],
            "needs_background": "light"
          }
        }
      ]
    },
    {
      "cell_type": "code",
      "metadata": {
        "colab": {
          "base_uri": "https://localhost:8080/",
          "height": 295
        },
        "cellView": "form",
        "id": "bTOCUVHBbb2c",
        "outputId": "2d0645ff-3abe-4423-fe3a-5e2c5c2cdefb"
      },
      "source": [
        "#@title MSE by column with MinMax normalized test\r\n",
        "data = torch.tensor(X_test_scaled_min_max, dtype=torch.float)\r\n",
        "\r\n",
        "pred = model(data)\r\n",
        "pred = pred.detach().numpy()\r\n",
        "data = data.detach().numpy()\r\n",
        "\r\n",
        "calculate_mse_column(data, pred, 'error_by_column_minmax_normalization')"
      ],
      "execution_count": 28,
      "outputs": [
        {
          "output_type": "display_data",
          "data": {
            "image/png": "[encoded data removed]",
            "text/plain": [
              "<Figure size 432x288 with 1 Axes>"
            ]
          },
          "metadata": {
            "tags": [],
            "needs_background": "light"
          }
        }
      ]
    },
    {
      "cell_type": "code",
      "metadata": {
        "colab": {
          "base_uri": "https://localhost:8080/",
          "height": 295
        },
        "cellView": "form",
        "id": "5OJI3VlpiKTi",
        "outputId": "7935baa0-efbf-4045-c1dc-caa8433fcbdc"
      },
      "source": [
        "#@title  PSNR by column with MinMax normalized test\n",
        "\n",
        "data = torch.tensor(X_test_scaled_min_max, dtype=torch.float)\n",
        "\n",
        "pred = model(data)\n",
        "pred = pred.detach().numpy()\n",
        "data = data.detach().numpy()\n",
        "\n",
        "calculate_psnr_column(data, pred, 'psnr_by_column_minmax_normalization')"
      ],
      "execution_count": 29,
      "outputs": [
        {
          "output_type": "display_data",
          "data": {
            "image/png": "[encoded data removed]",
            "text/plain": [
              "<Figure size 432x288 with 1 Axes>"
            ]
          },
          "metadata": {
            "tags": [],
            "needs_background": "light"
          }
        }
      ]
    },
    {
      "cell_type": "markdown",
      "metadata": {
        "id": "G3Su08aMmgWe"
      },
      "source": [
        "## Summary & Conclusions"
      ]
    },
    {
      "cell_type": "markdown",
      "metadata": {
        "id": "t5NuR3ZhmkCo"
      },
      "source": [
        "\r\n",
        "\r\n",
        "*   This notebook consists in the implementation of the first evaluation process to apply in the Deep autoencoders data compression in ATLAS \r\n",
        "*   An autoencoder to compress the four-momentum of a sample of simulated particles from 4 to 3 variables was successfully implemented.\r\n",
        "*   Two different methods to normalized data was evaluated in order to achieve better results.\r\n",
        "\r\n"
      ]
    }
  ]
}